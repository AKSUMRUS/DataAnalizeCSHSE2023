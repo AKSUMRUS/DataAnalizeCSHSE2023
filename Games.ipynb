{
 "cells": [
  {
   "cell_type": "code",
   "execution_count": 2,
   "metadata": {},
   "outputs": [],
   "source": [
    "import pandas as pd\n",
    "import matplotlib.pyplot as plt\n",
    "import numpy as np"
   ]
  },
  {
   "cell_type": "code",
   "execution_count": 3,
   "metadata": {},
   "outputs": [
    {
     "data": {
      "text/html": [
       "<div>\n",
       "<style scoped>\n",
       "    .dataframe tbody tr th:only-of-type {\n",
       "        vertical-align: middle;\n",
       "    }\n",
       "\n",
       "    .dataframe tbody tr th {\n",
       "        vertical-align: top;\n",
       "    }\n",
       "\n",
       "    .dataframe thead th {\n",
       "        text-align: right;\n",
       "    }\n",
       "</style>\n",
       "<table border=\"1\" class=\"dataframe\">\n",
       "  <thead>\n",
       "    <tr style=\"text-align: right;\">\n",
       "      <th></th>\n",
       "      <th>app_id</th>\n",
       "      <th>title</th>\n",
       "      <th>date_release</th>\n",
       "      <th>win</th>\n",
       "      <th>mac</th>\n",
       "      <th>linux</th>\n",
       "      <th>rating</th>\n",
       "      <th>positive_ratio</th>\n",
       "      <th>user_reviews</th>\n",
       "      <th>price_final</th>\n",
       "      <th>price_original</th>\n",
       "      <th>price_discounted</th>\n",
       "      <th>discount</th>\n",
       "      <th>steam_deck</th>\n",
       "    </tr>\n",
       "  </thead>\n",
       "  <tbody>\n",
       "    <tr>\n",
       "      <th>0</th>\n",
       "      <td>11190</td>\n",
       "      <td>Sherlock Holmes versus Jack the Ripper</td>\n",
       "      <td>2009-12-23</td>\n",
       "      <td>True</td>\n",
       "      <td>False</td>\n",
       "      <td>False</td>\n",
       "      <td>Mostly Positive</td>\n",
       "      <td>78</td>\n",
       "      <td>792</td>\n",
       "      <td>9.99</td>\n",
       "      <td>9.99</td>\n",
       "      <td>9.99</td>\n",
       "      <td>0.0</td>\n",
       "      <td>True</td>\n",
       "    </tr>\n",
       "    <tr>\n",
       "      <th>1</th>\n",
       "      <td>20700</td>\n",
       "      <td>Starscape</td>\n",
       "      <td>2008-11-03</td>\n",
       "      <td>True</td>\n",
       "      <td>False</td>\n",
       "      <td>False</td>\n",
       "      <td>Very Positive</td>\n",
       "      <td>81</td>\n",
       "      <td>80</td>\n",
       "      <td>7.99</td>\n",
       "      <td>7.99</td>\n",
       "      <td>7.99</td>\n",
       "      <td>0.0</td>\n",
       "      <td>True</td>\n",
       "    </tr>\n",
       "    <tr>\n",
       "      <th>2</th>\n",
       "      <td>94202</td>\n",
       "      <td>Jamestown: Gunpowder, Treason, &amp; Plot</td>\n",
       "      <td>2011-11-10</td>\n",
       "      <td>True</td>\n",
       "      <td>True</td>\n",
       "      <td>False</td>\n",
       "      <td>Positive</td>\n",
       "      <td>90</td>\n",
       "      <td>10</td>\n",
       "      <td>2.99</td>\n",
       "      <td>2.99</td>\n",
       "      <td>2.99</td>\n",
       "      <td>0.0</td>\n",
       "      <td>True</td>\n",
       "    </tr>\n",
       "    <tr>\n",
       "      <th>3</th>\n",
       "      <td>212673</td>\n",
       "      <td>Tom Clancy's Ghost Recon Future Soldier® - Khy...</td>\n",
       "      <td>2013-02-26</td>\n",
       "      <td>True</td>\n",
       "      <td>False</td>\n",
       "      <td>False</td>\n",
       "      <td>Mixed</td>\n",
       "      <td>60</td>\n",
       "      <td>10</td>\n",
       "      <td>9.99</td>\n",
       "      <td>9.99</td>\n",
       "      <td>9.99</td>\n",
       "      <td>0.0</td>\n",
       "      <td>True</td>\n",
       "    </tr>\n",
       "    <tr>\n",
       "      <th>4</th>\n",
       "      <td>222520</td>\n",
       "      <td>Champions of Regnum</td>\n",
       "      <td>2013-02-27</td>\n",
       "      <td>True</td>\n",
       "      <td>True</td>\n",
       "      <td>True</td>\n",
       "      <td>Mixed</td>\n",
       "      <td>67</td>\n",
       "      <td>1098</td>\n",
       "      <td>0.00</td>\n",
       "      <td>0.00</td>\n",
       "      <td>0.00</td>\n",
       "      <td>0.0</td>\n",
       "      <td>True</td>\n",
       "    </tr>\n",
       "    <tr>\n",
       "      <th>...</th>\n",
       "      <td>...</td>\n",
       "      <td>...</td>\n",
       "      <td>...</td>\n",
       "      <td>...</td>\n",
       "      <td>...</td>\n",
       "      <td>...</td>\n",
       "      <td>...</td>\n",
       "      <td>...</td>\n",
       "      <td>...</td>\n",
       "      <td>...</td>\n",
       "      <td>...</td>\n",
       "      <td>...</td>\n",
       "      <td>...</td>\n",
       "      <td>...</td>\n",
       "    </tr>\n",
       "    <tr>\n",
       "      <th>13464</th>\n",
       "      <td>1760250</td>\n",
       "      <td>Madden NFL 23</td>\n",
       "      <td>2022-08-18</td>\n",
       "      <td>True</td>\n",
       "      <td>False</td>\n",
       "      <td>False</td>\n",
       "      <td>Mixed</td>\n",
       "      <td>49</td>\n",
       "      <td>2362</td>\n",
       "      <td>59.99</td>\n",
       "      <td>59.99</td>\n",
       "      <td>59.99</td>\n",
       "      <td>0.0</td>\n",
       "      <td>True</td>\n",
       "    </tr>\n",
       "    <tr>\n",
       "      <th>13465</th>\n",
       "      <td>1770640</td>\n",
       "      <td>Death's Gambit: Afterlife Soundtrack</td>\n",
       "      <td>2021-10-06</td>\n",
       "      <td>False</td>\n",
       "      <td>False</td>\n",
       "      <td>False</td>\n",
       "      <td>Positive</td>\n",
       "      <td>100</td>\n",
       "      <td>10</td>\n",
       "      <td>12.99</td>\n",
       "      <td>12.99</td>\n",
       "      <td>12.99</td>\n",
       "      <td>0.0</td>\n",
       "      <td>True</td>\n",
       "    </tr>\n",
       "    <tr>\n",
       "      <th>13466</th>\n",
       "      <td>1943950</td>\n",
       "      <td>Escape the Backrooms</td>\n",
       "      <td>2022-08-11</td>\n",
       "      <td>True</td>\n",
       "      <td>False</td>\n",
       "      <td>False</td>\n",
       "      <td>Very Positive</td>\n",
       "      <td>81</td>\n",
       "      <td>5726</td>\n",
       "      <td>9.99</td>\n",
       "      <td>9.99</td>\n",
       "      <td>9.99</td>\n",
       "      <td>0.0</td>\n",
       "      <td>True</td>\n",
       "    </tr>\n",
       "    <tr>\n",
       "      <th>13467</th>\n",
       "      <td>2124040</td>\n",
       "      <td>Department of the Devil</td>\n",
       "      <td>2022-10-24</td>\n",
       "      <td>True</td>\n",
       "      <td>False</td>\n",
       "      <td>False</td>\n",
       "      <td>Positive</td>\n",
       "      <td>100</td>\n",
       "      <td>12</td>\n",
       "      <td>7.99</td>\n",
       "      <td>7.99</td>\n",
       "      <td>7.99</td>\n",
       "      <td>0.0</td>\n",
       "      <td>True</td>\n",
       "    </tr>\n",
       "    <tr>\n",
       "      <th>13468</th>\n",
       "      <td>2233890</td>\n",
       "      <td>Prison Wars</td>\n",
       "      <td>2023-01-06</td>\n",
       "      <td>True</td>\n",
       "      <td>False</td>\n",
       "      <td>False</td>\n",
       "      <td>Positive</td>\n",
       "      <td>92</td>\n",
       "      <td>14</td>\n",
       "      <td>1.99</td>\n",
       "      <td>1.99</td>\n",
       "      <td>1.99</td>\n",
       "      <td>0.0</td>\n",
       "      <td>True</td>\n",
       "    </tr>\n",
       "  </tbody>\n",
       "</table>\n",
       "<p>13469 rows × 14 columns</p>\n",
       "</div>"
      ],
      "text/plain": [
       "        app_id                                              title  \\\n",
       "0        11190             Sherlock Holmes versus Jack the Ripper   \n",
       "1        20700                                          Starscape   \n",
       "2        94202              Jamestown: Gunpowder, Treason, & Plot   \n",
       "3       212673  Tom Clancy's Ghost Recon Future Soldier® - Khy...   \n",
       "4       222520                                Champions of Regnum   \n",
       "...        ...                                                ...   \n",
       "13464  1760250                                      Madden NFL 23   \n",
       "13465  1770640               Death's Gambit: Afterlife Soundtrack   \n",
       "13466  1943950                               Escape the Backrooms   \n",
       "13467  2124040                            Department of the Devil   \n",
       "13468  2233890                                        Prison Wars   \n",
       "\n",
       "      date_release    win    mac  linux           rating  positive_ratio  \\\n",
       "0       2009-12-23   True  False  False  Mostly Positive              78   \n",
       "1       2008-11-03   True  False  False    Very Positive              81   \n",
       "2       2011-11-10   True   True  False         Positive              90   \n",
       "3       2013-02-26   True  False  False            Mixed              60   \n",
       "4       2013-02-27   True   True   True            Mixed              67   \n",
       "...            ...    ...    ...    ...              ...             ...   \n",
       "13464   2022-08-18   True  False  False            Mixed              49   \n",
       "13465   2021-10-06  False  False  False         Positive             100   \n",
       "13466   2022-08-11   True  False  False    Very Positive              81   \n",
       "13467   2022-10-24   True  False  False         Positive             100   \n",
       "13468   2023-01-06   True  False  False         Positive              92   \n",
       "\n",
       "       user_reviews  price_final  price_original  price_discounted  discount  \\\n",
       "0               792         9.99            9.99              9.99       0.0   \n",
       "1                80         7.99            7.99              7.99       0.0   \n",
       "2                10         2.99            2.99              2.99       0.0   \n",
       "3                10         9.99            9.99              9.99       0.0   \n",
       "4              1098         0.00            0.00              0.00       0.0   \n",
       "...             ...          ...             ...               ...       ...   \n",
       "13464          2362        59.99           59.99             59.99       0.0   \n",
       "13465            10        12.99           12.99             12.99       0.0   \n",
       "13466          5726         9.99            9.99              9.99       0.0   \n",
       "13467            12         7.99            7.99              7.99       0.0   \n",
       "13468            14         1.99            1.99              1.99       0.0   \n",
       "\n",
       "       steam_deck  \n",
       "0            True  \n",
       "1            True  \n",
       "2            True  \n",
       "3            True  \n",
       "4            True  \n",
       "...           ...  \n",
       "13464        True  \n",
       "13465        True  \n",
       "13466        True  \n",
       "13467        True  \n",
       "13468        True  \n",
       "\n",
       "[13469 rows x 14 columns]"
      ]
     },
     "metadata": {},
     "output_type": "display_data"
    }
   ],
   "source": [
    "df = pd.read_csv('games.csv', on_bad_lines='skip')\n",
    "\n",
    "display(df)"
   ]
  },
  {
   "cell_type": "markdown",
   "metadata": {},
   "source": [
    "### 2"
   ]
  },
  {
   "cell_type": "code",
   "execution_count": 4,
   "metadata": {},
   "outputs": [
    {
     "name": "stdout",
     "output_type": "stream",
     "text": [
      "В датасете 13469 строк и 14 столбцов\n"
     ]
    }
   ],
   "source": [
    "shape = df.shape\n",
    "print(f\"В датасете {shape[0]} строк и {shape[1]} столбцов\")"
   ]
  },
  {
   "cell_type": "code",
   "execution_count": 5,
   "metadata": {},
   "outputs": [
    {
     "name": "stdout",
     "output_type": "stream",
     "text": [
      "<class 'pandas.core.frame.DataFrame'>\n",
      "RangeIndex: 13469 entries, 0 to 13468\n",
      "Data columns (total 14 columns):\n",
      " #   Column            Non-Null Count  Dtype  \n",
      "---  ------            --------------  -----  \n",
      " 0   app_id            13469 non-null  int64  \n",
      " 1   title             13469 non-null  object \n",
      " 2   date_release      13469 non-null  object \n",
      " 3   win               13469 non-null  bool   \n",
      " 4   mac               13469 non-null  bool   \n",
      " 5   linux             13469 non-null  bool   \n",
      " 6   rating            13469 non-null  object \n",
      " 7   positive_ratio    13469 non-null  int64  \n",
      " 8   user_reviews      13469 non-null  int64  \n",
      " 9   price_final       13469 non-null  float64\n",
      " 10  price_original    13443 non-null  float64\n",
      " 11  price_discounted  13443 non-null  float64\n",
      " 12  discount          13469 non-null  float64\n",
      " 13  steam_deck        13469 non-null  bool   \n",
      "dtypes: bool(4), float64(4), int64(3), object(3)\n",
      "memory usage: 1.1+ MB\n"
     ]
    },
    {
     "data": {
      "text/plain": [
       "None"
      ]
     },
     "metadata": {},
     "output_type": "display_data"
    }
   ],
   "source": [
    "display(df.info())"
   ]
  },
  {
   "cell_type": "code",
   "execution_count": 6,
   "metadata": {},
   "outputs": [],
   "source": [
    "dataset_statistics = [\n",
    "    {'name': 'app_id',\n",
    "     'what': 'айди игры',\n",
    "     'type_variable': 'метрическая',\n",
    "     'type_data': 'integer',\n",
    "     'empty_count': 13469\n",
    "     },\n",
    "    {'name': 'title',\n",
    "     'what': 'название игры',\n",
    "     'type_variable': 'категориальная-номинальная',\n",
    "     'type_data': 'string',\n",
    "     'empty_count': 13469\n",
    "     },\n",
    "    {'name': 'date_release',\n",
    "     'what': 'дату релиза игры',\n",
    "     'type_variable': 'метрическая',\n",
    "     'type_data': 'string',\n",
    "     'empty_count': 13469\n",
    "     },\n",
    "    {'name': 'win',\n",
    "     'what': 'поддержку операционной системы Windows',\n",
    "     'type_variable': 'категориальная-бинарная',\n",
    "     'type_data': 'bool',\n",
    "     'empty_count': 13469\n",
    "     },\n",
    "    {'name': 'mac',\n",
    "     'what': 'поддержку операционной системы MacOS',\n",
    "     'type_variable': 'категориальная-бинарная',\n",
    "     'type_data': 'bool',\n",
    "     'empty_count': 13469\n",
    "     },\n",
    "    {'name': 'linux',\n",
    "     'what': 'поддержку операционной системы Linus',\n",
    "     'type_variable': 'категориальная-бинарная',\n",
    "     'type_data': 'bool',\n",
    "     'empty_count': 13469\n",
    "     },\n",
    "    {'name': 'rating',\n",
    "     'what': 'категорию рейтинга продукта',\n",
    "     'type_variable': 'категориальная-порядковая',\n",
    "     'type_data': 'string',\n",
    "     'empty_count': 13469\n",
    "     },\n",
    "    {'name': 'positive_ratio',\n",
    "     'what': 'долю позитивных отзывов',\n",
    "     'type_variable': 'метрическая',\n",
    "     'type_data': 'integer',\n",
    "     'empty_count': 13469\n",
    "     },\n",
    "    {'name': 'user_reviews',\n",
    "     'what': 'количество оставленных отзывов',\n",
    "     'type_variable': 'метрическая',\n",
    "     'type_data': 'integer',\n",
    "     'empty_count': 13469\n",
    "     },\n",
    "    {'name': 'price_final',\n",
    "     'what': 'окончательную цену в долларах США $',\n",
    "     'type_variable': 'метрическая',\n",
    "     'type_data': 'float',\n",
    "     'empty_count': 13469\n",
    "     },\n",
    "    {'name': 'price_original',\n",
    "     'what': 'цену в долларах США $ до скидки',\n",
    "     'type_variable': 'метрическая',\n",
    "     'type_data': 'float',\n",
    "     'empty_count': 13443\n",
    "     },\n",
    "    {'name': 'price_discounted',\n",
    "     'what': 'цену в долларах США $ после скидки',\n",
    "     'type_variable': 'метрическая',\n",
    "     'type_data': 'float',\n",
    "     'empty_count': 13443\n",
    "     },\n",
    "    {'name': 'discount',\n",
    "     'what': 'значение скидки в процентах',\n",
    "     'type_variable': 'метрическая',\n",
    "     'type_data': 'float',\n",
    "     'empty_count': 13469\n",
    "     },\n",
    "    {'name': 'steam_deck',\n",
    "     'what': 'совместимость с Steam Deck',\n",
    "     'type_variable': 'категориальная-бинарная',\n",
    "     'type_data': 'bool',\n",
    "     'empty_count': 13469\n",
    "     },\n",
    "    ]"
   ]
  },
  {
   "cell_type": "code",
   "execution_count": 7,
   "metadata": {},
   "outputs": [
    {
     "name": "stdout",
     "output_type": "stream",
     "text": [
      "app_id: задаёт айди игры, относится к типу переменной метрическая, относится к типу данных integer и имеет 0 пустых значений\n",
      "title: задаёт название игры, относится к типу переменной категориальная-номинальная, относится к типу данных string и имеет 0 пустых значений\n",
      "date_release: задаёт дату релиза игры, относится к типу переменной метрическая, относится к типу данных string и имеет 0 пустых значений\n",
      "win: задаёт поддержку операционной системы Windows, относится к типу переменной категориальная-бинарная, относится к типу данных bool и имеет 0 пустых значений\n",
      "mac: задаёт поддержку операционной системы MacOS, относится к типу переменной категориальная-бинарная, относится к типу данных bool и имеет 0 пустых значений\n",
      "linux: задаёт поддержку операционной системы Linus, относится к типу переменной категориальная-бинарная, относится к типу данных bool и имеет 0 пустых значений\n",
      "rating: задаёт категорию рейтинга продукта, относится к типу переменной категориальная-порядковая, относится к типу данных string и имеет 0 пустых значений\n",
      "positive_ratio: задаёт долю позитивных отзывов, относится к типу переменной метрическая, относится к типу данных integer и имеет 0 пустых значений\n",
      "user_reviews: задаёт количество оставленных отзывов, относится к типу переменной метрическая, относится к типу данных integer и имеет 0 пустых значений\n",
      "price_final: задаёт окончательную цену в долларах США $, относится к типу переменной метрическая, относится к типу данных float и имеет 0 пустых значений\n",
      "price_original: задаёт цену в долларах США $ до скидки, относится к типу переменной метрическая, относится к типу данных float и имеет 26 пустых значений\n",
      "price_discounted: задаёт цену в долларах США $ после скидки, относится к типу переменной метрическая, относится к типу данных float и имеет 26 пустых значений\n",
      "discount: задаёт значение скидки в процентах, относится к типу переменной метрическая, относится к типу данных float и имеет 0 пустых значений\n",
      "steam_deck: задаёт совместимость с Steam Deck, относится к типу переменной категориальная-бинарная, относится к типу данных bool и имеет 0 пустых значений\n"
     ]
    }
   ],
   "source": [
    "for item in dataset_statistics:\n",
    "    print(\n",
    "        f'{item[\"name\"]}: задаёт {item[\"what\"]}, относится к типу переменной {item[\"type_variable\"]}, относится к типу данных {item[\"type_data\"]} и имеет {df.shape[0] - item[\"empty_count\"]} пустых значений'\n",
    "    )"
   ]
  },
  {
   "cell_type": "markdown",
   "metadata": {},
   "source": [
    "### 3"
   ]
  },
  {
   "cell_type": "code",
   "execution_count": 8,
   "metadata": {},
   "outputs": [
    {
     "name": "stdout",
     "output_type": "stream",
     "text": [
      "<class 'pandas.core.frame.DataFrame'>\n",
      "RangeIndex: 13469 entries, 0 to 13468\n",
      "Data columns (total 14 columns):\n",
      " #   Column            Non-Null Count  Dtype  \n",
      "---  ------            --------------  -----  \n",
      " 0   app_id            13469 non-null  Int64  \n",
      " 1   title             13469 non-null  string \n",
      " 2   date_release      13469 non-null  string \n",
      " 3   win               13469 non-null  boolean\n",
      " 4   mac               13469 non-null  boolean\n",
      " 5   linux             13469 non-null  boolean\n",
      " 6   rating            13469 non-null  string \n",
      " 7   positive_ratio    13469 non-null  Int64  \n",
      " 8   user_reviews      13469 non-null  Int64  \n",
      " 9   price_final       13469 non-null  Float64\n",
      " 10  price_original    13443 non-null  Float64\n",
      " 11  price_discounted  13443 non-null  Float64\n",
      " 12  discount          13469 non-null  Int64  \n",
      " 13  steam_deck        13469 non-null  boolean\n",
      "dtypes: Float64(3), Int64(4), boolean(4), string(3)\n",
      "memory usage: 1.2 MB\n"
     ]
    },
    {
     "data": {
      "text/plain": [
       "None"
      ]
     },
     "metadata": {},
     "output_type": "display_data"
    }
   ],
   "source": [
    "df = df.convert_dtypes()\n",
    "display(df.info())"
   ]
  },
  {
   "cell_type": "markdown",
   "metadata": {},
   "source": [
    "### 4"
   ]
  },
  {
   "cell_type": "markdown",
   "metadata": {},
   "source": [
    "Добавим столбец задающий поддрежку игрой всех операционных систем и Steam Deck"
   ]
  },
  {
   "cell_type": "code",
   "execution_count": 9,
   "metadata": {},
   "outputs": [
    {
     "data": {
      "text/plain": [
       "0        False\n",
       "1        False\n",
       "2        False\n",
       "3        False\n",
       "4         True\n",
       "         ...  \n",
       "13464    False\n",
       "13465    False\n",
       "13466    False\n",
       "13467    False\n",
       "13468    False\n",
       "Name: all_platforms, Length: 13469, dtype: boolean"
      ]
     },
     "metadata": {},
     "output_type": "display_data"
    },
    {
     "data": {
      "text/plain": [
       "0        2\n",
       "1        2\n",
       "2        3\n",
       "3        2\n",
       "4        4\n",
       "        ..\n",
       "13464    2\n",
       "13465    1\n",
       "13466    2\n",
       "13467    2\n",
       "13468    2\n",
       "Name: count_platforms, Length: 13469, dtype: int64"
      ]
     },
     "metadata": {},
     "output_type": "display_data"
    }
   ],
   "source": [
    "df['all_platforms'] = df['win'] & df['mac'] & df['linux'] & df['steam_deck']\n",
    "df['count_platforms'] = df['win'].astype(int) + df['mac'].astype(int) + df['linux'].astype(int) + df['steam_deck'].astype(int)\n",
    "\n",
    "display(df['all_platforms'])\n",
    "display(df['count_platforms'])"
   ]
  },
  {
   "cell_type": "markdown",
   "metadata": {},
   "source": [
    "### 5"
   ]
  },
  {
   "cell_type": "code",
   "execution_count": 10,
   "metadata": {},
   "outputs": [
    {
     "data": {
      "text/html": [
       "<div>\n",
       "<style scoped>\n",
       "    .dataframe tbody tr th:only-of-type {\n",
       "        vertical-align: middle;\n",
       "    }\n",
       "\n",
       "    .dataframe tbody tr th {\n",
       "        vertical-align: top;\n",
       "    }\n",
       "\n",
       "    .dataframe thead th {\n",
       "        text-align: right;\n",
       "    }\n",
       "</style>\n",
       "<table border=\"1\" class=\"dataframe\">\n",
       "  <thead>\n",
       "    <tr style=\"text-align: right;\">\n",
       "      <th></th>\n",
       "      <th>app_id</th>\n",
       "      <th>title</th>\n",
       "      <th>date_release</th>\n",
       "      <th>win</th>\n",
       "      <th>mac</th>\n",
       "      <th>linux</th>\n",
       "      <th>rating</th>\n",
       "      <th>positive_ratio</th>\n",
       "      <th>user_reviews</th>\n",
       "      <th>price_final</th>\n",
       "      <th>price_original</th>\n",
       "      <th>price_discounted</th>\n",
       "      <th>discount</th>\n",
       "      <th>steam_deck</th>\n",
       "      <th>all_platforms</th>\n",
       "      <th>count_platforms</th>\n",
       "    </tr>\n",
       "  </thead>\n",
       "  <tbody>\n",
       "    <tr>\n",
       "      <th>0</th>\n",
       "      <td>11190</td>\n",
       "      <td>Sherlock Holmes versus Jack the Ripper</td>\n",
       "      <td>2009-12-23</td>\n",
       "      <td>True</td>\n",
       "      <td>False</td>\n",
       "      <td>False</td>\n",
       "      <td>Mostly Positive</td>\n",
       "      <td>78</td>\n",
       "      <td>792</td>\n",
       "      <td>Average</td>\n",
       "      <td>9.99</td>\n",
       "      <td>9.99</td>\n",
       "      <td>0</td>\n",
       "      <td>True</td>\n",
       "      <td>False</td>\n",
       "      <td>2</td>\n",
       "    </tr>\n",
       "    <tr>\n",
       "      <th>1</th>\n",
       "      <td>20700</td>\n",
       "      <td>Starscape</td>\n",
       "      <td>2008-11-03</td>\n",
       "      <td>True</td>\n",
       "      <td>False</td>\n",
       "      <td>False</td>\n",
       "      <td>Very Positive</td>\n",
       "      <td>81</td>\n",
       "      <td>80</td>\n",
       "      <td>Average</td>\n",
       "      <td>7.99</td>\n",
       "      <td>7.99</td>\n",
       "      <td>0</td>\n",
       "      <td>True</td>\n",
       "      <td>False</td>\n",
       "      <td>2</td>\n",
       "    </tr>\n",
       "    <tr>\n",
       "      <th>2</th>\n",
       "      <td>94202</td>\n",
       "      <td>Jamestown: Gunpowder, Treason, &amp; Plot</td>\n",
       "      <td>2011-11-10</td>\n",
       "      <td>True</td>\n",
       "      <td>True</td>\n",
       "      <td>False</td>\n",
       "      <td>Positive</td>\n",
       "      <td>90</td>\n",
       "      <td>10</td>\n",
       "      <td>Average</td>\n",
       "      <td>2.99</td>\n",
       "      <td>2.99</td>\n",
       "      <td>0</td>\n",
       "      <td>True</td>\n",
       "      <td>False</td>\n",
       "      <td>3</td>\n",
       "    </tr>\n",
       "    <tr>\n",
       "      <th>3</th>\n",
       "      <td>212673</td>\n",
       "      <td>Tom Clancy's Ghost Recon Future Soldier® - Khy...</td>\n",
       "      <td>2013-02-26</td>\n",
       "      <td>True</td>\n",
       "      <td>False</td>\n",
       "      <td>False</td>\n",
       "      <td>Mixed</td>\n",
       "      <td>60</td>\n",
       "      <td>10</td>\n",
       "      <td>Average</td>\n",
       "      <td>9.99</td>\n",
       "      <td>9.99</td>\n",
       "      <td>0</td>\n",
       "      <td>True</td>\n",
       "      <td>False</td>\n",
       "      <td>2</td>\n",
       "    </tr>\n",
       "    <tr>\n",
       "      <th>4</th>\n",
       "      <td>222520</td>\n",
       "      <td>Champions of Regnum</td>\n",
       "      <td>2013-02-27</td>\n",
       "      <td>True</td>\n",
       "      <td>True</td>\n",
       "      <td>True</td>\n",
       "      <td>Mixed</td>\n",
       "      <td>67</td>\n",
       "      <td>1098</td>\n",
       "      <td>Cheap</td>\n",
       "      <td>0.0</td>\n",
       "      <td>0.0</td>\n",
       "      <td>0</td>\n",
       "      <td>True</td>\n",
       "      <td>True</td>\n",
       "      <td>4</td>\n",
       "    </tr>\n",
       "    <tr>\n",
       "      <th>...</th>\n",
       "      <td>...</td>\n",
       "      <td>...</td>\n",
       "      <td>...</td>\n",
       "      <td>...</td>\n",
       "      <td>...</td>\n",
       "      <td>...</td>\n",
       "      <td>...</td>\n",
       "      <td>...</td>\n",
       "      <td>...</td>\n",
       "      <td>...</td>\n",
       "      <td>...</td>\n",
       "      <td>...</td>\n",
       "      <td>...</td>\n",
       "      <td>...</td>\n",
       "      <td>...</td>\n",
       "      <td>...</td>\n",
       "    </tr>\n",
       "    <tr>\n",
       "      <th>13464</th>\n",
       "      <td>1760250</td>\n",
       "      <td>Madden NFL 23</td>\n",
       "      <td>2022-08-18</td>\n",
       "      <td>True</td>\n",
       "      <td>False</td>\n",
       "      <td>False</td>\n",
       "      <td>Mixed</td>\n",
       "      <td>49</td>\n",
       "      <td>2362</td>\n",
       "      <td>Expensive</td>\n",
       "      <td>59.99</td>\n",
       "      <td>59.99</td>\n",
       "      <td>0</td>\n",
       "      <td>True</td>\n",
       "      <td>False</td>\n",
       "      <td>2</td>\n",
       "    </tr>\n",
       "    <tr>\n",
       "      <th>13465</th>\n",
       "      <td>1770640</td>\n",
       "      <td>Death's Gambit: Afterlife Soundtrack</td>\n",
       "      <td>2021-10-06</td>\n",
       "      <td>False</td>\n",
       "      <td>False</td>\n",
       "      <td>False</td>\n",
       "      <td>Positive</td>\n",
       "      <td>100</td>\n",
       "      <td>10</td>\n",
       "      <td>Expensive</td>\n",
       "      <td>12.99</td>\n",
       "      <td>12.99</td>\n",
       "      <td>0</td>\n",
       "      <td>True</td>\n",
       "      <td>False</td>\n",
       "      <td>1</td>\n",
       "    </tr>\n",
       "    <tr>\n",
       "      <th>13466</th>\n",
       "      <td>1943950</td>\n",
       "      <td>Escape the Backrooms</td>\n",
       "      <td>2022-08-11</td>\n",
       "      <td>True</td>\n",
       "      <td>False</td>\n",
       "      <td>False</td>\n",
       "      <td>Very Positive</td>\n",
       "      <td>81</td>\n",
       "      <td>5726</td>\n",
       "      <td>Average</td>\n",
       "      <td>9.99</td>\n",
       "      <td>9.99</td>\n",
       "      <td>0</td>\n",
       "      <td>True</td>\n",
       "      <td>False</td>\n",
       "      <td>2</td>\n",
       "    </tr>\n",
       "    <tr>\n",
       "      <th>13467</th>\n",
       "      <td>2124040</td>\n",
       "      <td>Department of the Devil</td>\n",
       "      <td>2022-10-24</td>\n",
       "      <td>True</td>\n",
       "      <td>False</td>\n",
       "      <td>False</td>\n",
       "      <td>Positive</td>\n",
       "      <td>100</td>\n",
       "      <td>12</td>\n",
       "      <td>Average</td>\n",
       "      <td>7.99</td>\n",
       "      <td>7.99</td>\n",
       "      <td>0</td>\n",
       "      <td>True</td>\n",
       "      <td>False</td>\n",
       "      <td>2</td>\n",
       "    </tr>\n",
       "    <tr>\n",
       "      <th>13468</th>\n",
       "      <td>2233890</td>\n",
       "      <td>Prison Wars</td>\n",
       "      <td>2023-01-06</td>\n",
       "      <td>True</td>\n",
       "      <td>False</td>\n",
       "      <td>False</td>\n",
       "      <td>Positive</td>\n",
       "      <td>92</td>\n",
       "      <td>14</td>\n",
       "      <td>Cheap</td>\n",
       "      <td>1.99</td>\n",
       "      <td>1.99</td>\n",
       "      <td>0</td>\n",
       "      <td>True</td>\n",
       "      <td>False</td>\n",
       "      <td>2</td>\n",
       "    </tr>\n",
       "  </tbody>\n",
       "</table>\n",
       "<p>13469 rows × 16 columns</p>\n",
       "</div>"
      ],
      "text/plain": [
       "        app_id                                              title  \\\n",
       "0        11190             Sherlock Holmes versus Jack the Ripper   \n",
       "1        20700                                          Starscape   \n",
       "2        94202              Jamestown: Gunpowder, Treason, & Plot   \n",
       "3       212673  Tom Clancy's Ghost Recon Future Soldier® - Khy...   \n",
       "4       222520                                Champions of Regnum   \n",
       "...        ...                                                ...   \n",
       "13464  1760250                                      Madden NFL 23   \n",
       "13465  1770640               Death's Gambit: Afterlife Soundtrack   \n",
       "13466  1943950                               Escape the Backrooms   \n",
       "13467  2124040                            Department of the Devil   \n",
       "13468  2233890                                        Prison Wars   \n",
       "\n",
       "      date_release    win    mac  linux           rating  positive_ratio  \\\n",
       "0       2009-12-23   True  False  False  Mostly Positive              78   \n",
       "1       2008-11-03   True  False  False    Very Positive              81   \n",
       "2       2011-11-10   True   True  False         Positive              90   \n",
       "3       2013-02-26   True  False  False            Mixed              60   \n",
       "4       2013-02-27   True   True   True            Mixed              67   \n",
       "...            ...    ...    ...    ...              ...             ...   \n",
       "13464   2022-08-18   True  False  False            Mixed              49   \n",
       "13465   2021-10-06  False  False  False         Positive             100   \n",
       "13466   2022-08-11   True  False  False    Very Positive              81   \n",
       "13467   2022-10-24   True  False  False         Positive             100   \n",
       "13468   2023-01-06   True  False  False         Positive              92   \n",
       "\n",
       "       user_reviews price_final  price_original  price_discounted  discount  \\\n",
       "0               792     Average            9.99              9.99         0   \n",
       "1                80     Average            7.99              7.99         0   \n",
       "2                10     Average            2.99              2.99         0   \n",
       "3                10     Average            9.99              9.99         0   \n",
       "4              1098       Cheap             0.0               0.0         0   \n",
       "...             ...         ...             ...               ...       ...   \n",
       "13464          2362   Expensive           59.99             59.99         0   \n",
       "13465            10   Expensive           12.99             12.99         0   \n",
       "13466          5726     Average            9.99              9.99         0   \n",
       "13467            12     Average            7.99              7.99         0   \n",
       "13468            14       Cheap            1.99              1.99         0   \n",
       "\n",
       "       steam_deck  all_platforms  count_platforms  \n",
       "0            True          False                2  \n",
       "1            True          False                2  \n",
       "2            True          False                3  \n",
       "3            True          False                2  \n",
       "4            True           True                4  \n",
       "...           ...            ...              ...  \n",
       "13464        True          False                2  \n",
       "13465        True          False                1  \n",
       "13466        True          False                2  \n",
       "13467        True          False                2  \n",
       "13468        True          False                2  \n",
       "\n",
       "[13469 rows x 16 columns]"
      ]
     },
     "metadata": {},
     "output_type": "display_data"
    },
    {
     "name": "stdout",
     "output_type": "stream",
     "text": [
      "Примем 25% самых недорогих чисел за дешёвые игры, а 20% самых недешёвых за дорогие, оставшиеся 55% игр имеют среднюю цену\n"
     ]
    }
   ],
   "source": [
    "cheap = df['price_final'].quantile(0.25)\n",
    "expensive = df['price_final'].quantile(0.80)\n",
    "def f(x):\n",
    "    if x < cheap:\n",
    "        return 'Cheap'\n",
    "    elif x < expensive:\n",
    "        return 'Average'\n",
    "    else:\n",
    "        return 'Expensive'\n",
    "\n",
    "df2 = df.copy()\n",
    "df2['price_final'] = df2['price_final'].apply(lambda x : f(x))\n",
    "display(df2)\n",
    "print(\"Примем 25% самых недорогих чисел за дешёвые игры, а 20% самых недешёвых за дорогие, оставшиеся 55% игр имеют среднюю цену\")"
   ]
  },
  {
   "cell_type": "markdown",
   "metadata": {},
   "source": [
    "### 6"
   ]
  },
  {
   "cell_type": "code",
   "execution_count": 11,
   "metadata": {},
   "outputs": [
    {
     "data": {
      "text/html": [
       "<div>\n",
       "<style scoped>\n",
       "    .dataframe tbody tr th:only-of-type {\n",
       "        vertical-align: middle;\n",
       "    }\n",
       "\n",
       "    .dataframe tbody tr th {\n",
       "        vertical-align: top;\n",
       "    }\n",
       "\n",
       "    .dataframe thead th {\n",
       "        text-align: right;\n",
       "    }\n",
       "</style>\n",
       "<table border=\"1\" class=\"dataframe\">\n",
       "  <thead>\n",
       "    <tr style=\"text-align: right;\">\n",
       "      <th></th>\n",
       "      <th>10</th>\n",
       "      <th>11</th>\n",
       "      <th>12</th>\n",
       "      <th>13</th>\n",
       "      <th>14</th>\n",
       "    </tr>\n",
       "  </thead>\n",
       "  <tbody>\n",
       "    <tr>\n",
       "      <th>app_id</th>\n",
       "      <td>354680</td>\n",
       "      <td>364329</td>\n",
       "      <td>385870</td>\n",
       "      <td>396350</td>\n",
       "      <td>407980</td>\n",
       "    </tr>\n",
       "    <tr>\n",
       "      <th>title</th>\n",
       "      <td>Adventures of Bertram Fiddle 1: A Dreadly Busi...</td>\n",
       "      <td>FSX: Steam Edition - WACO YMF5 Add-On</td>\n",
       "      <td>Monstrum - Original Soundtrack</td>\n",
       "      <td>Bleed 2</td>\n",
       "      <td>Sakura Beach 2</td>\n",
       "    </tr>\n",
       "    <tr>\n",
       "      <th>date_release</th>\n",
       "      <td>2015-04-02</td>\n",
       "      <td>2015-07-14</td>\n",
       "      <td>2015-07-17</td>\n",
       "      <td>2017-02-08</td>\n",
       "      <td>2015-11-06</td>\n",
       "    </tr>\n",
       "    <tr>\n",
       "      <th>win</th>\n",
       "      <td>True</td>\n",
       "      <td>True</td>\n",
       "      <td>True</td>\n",
       "      <td>True</td>\n",
       "      <td>True</td>\n",
       "    </tr>\n",
       "    <tr>\n",
       "      <th>mac</th>\n",
       "      <td>True</td>\n",
       "      <td>False</td>\n",
       "      <td>True</td>\n",
       "      <td>True</td>\n",
       "      <td>False</td>\n",
       "    </tr>\n",
       "    <tr>\n",
       "      <th>linux</th>\n",
       "      <td>False</td>\n",
       "      <td>False</td>\n",
       "      <td>True</td>\n",
       "      <td>True</td>\n",
       "      <td>True</td>\n",
       "    </tr>\n",
       "    <tr>\n",
       "      <th>rating</th>\n",
       "      <td>Very Positive</td>\n",
       "      <td>Positive</td>\n",
       "      <td>Positive</td>\n",
       "      <td>Very Positive</td>\n",
       "      <td>Mostly Positive</td>\n",
       "    </tr>\n",
       "    <tr>\n",
       "      <th>positive_ratio</th>\n",
       "      <td>87</td>\n",
       "      <td>87</td>\n",
       "      <td>92</td>\n",
       "      <td>96</td>\n",
       "      <td>79</td>\n",
       "    </tr>\n",
       "    <tr>\n",
       "      <th>user_reviews</th>\n",
       "      <td>378</td>\n",
       "      <td>16</td>\n",
       "      <td>14</td>\n",
       "      <td>454</td>\n",
       "      <td>248</td>\n",
       "    </tr>\n",
       "    <tr>\n",
       "      <th>price_final</th>\n",
       "      <td>4.99</td>\n",
       "      <td>19.99</td>\n",
       "      <td>4.99</td>\n",
       "      <td>9.99</td>\n",
       "      <td>9.99</td>\n",
       "    </tr>\n",
       "    <tr>\n",
       "      <th>price_original</th>\n",
       "      <td>4.99</td>\n",
       "      <td>19.99</td>\n",
       "      <td>4.99</td>\n",
       "      <td>9.99</td>\n",
       "      <td>9.99</td>\n",
       "    </tr>\n",
       "    <tr>\n",
       "      <th>price_discounted</th>\n",
       "      <td>4.99</td>\n",
       "      <td>19.99</td>\n",
       "      <td>4.99</td>\n",
       "      <td>9.99</td>\n",
       "      <td>9.99</td>\n",
       "    </tr>\n",
       "    <tr>\n",
       "      <th>discount</th>\n",
       "      <td>0</td>\n",
       "      <td>0</td>\n",
       "      <td>0</td>\n",
       "      <td>0</td>\n",
       "      <td>0</td>\n",
       "    </tr>\n",
       "    <tr>\n",
       "      <th>steam_deck</th>\n",
       "      <td>True</td>\n",
       "      <td>True</td>\n",
       "      <td>True</td>\n",
       "      <td>True</td>\n",
       "      <td>True</td>\n",
       "    </tr>\n",
       "    <tr>\n",
       "      <th>all_platforms</th>\n",
       "      <td>False</td>\n",
       "      <td>False</td>\n",
       "      <td>True</td>\n",
       "      <td>True</td>\n",
       "      <td>False</td>\n",
       "    </tr>\n",
       "    <tr>\n",
       "      <th>count_platforms</th>\n",
       "      <td>3</td>\n",
       "      <td>2</td>\n",
       "      <td>4</td>\n",
       "      <td>4</td>\n",
       "      <td>3</td>\n",
       "    </tr>\n",
       "  </tbody>\n",
       "</table>\n",
       "</div>"
      ],
      "text/plain": [
       "                                                                 10  \\\n",
       "app_id                                                       354680   \n",
       "title             Adventures of Bertram Fiddle 1: A Dreadly Busi...   \n",
       "date_release                                             2015-04-02   \n",
       "win                                                            True   \n",
       "mac                                                            True   \n",
       "linux                                                         False   \n",
       "rating                                                Very Positive   \n",
       "positive_ratio                                                   87   \n",
       "user_reviews                                                    378   \n",
       "price_final                                                    4.99   \n",
       "price_original                                                 4.99   \n",
       "price_discounted                                               4.99   \n",
       "discount                                                          0   \n",
       "steam_deck                                                     True   \n",
       "all_platforms                                                 False   \n",
       "count_platforms                                                   3   \n",
       "\n",
       "                                                     11  \\\n",
       "app_id                                           364329   \n",
       "title             FSX: Steam Edition - WACO YMF5 Add-On   \n",
       "date_release                                 2015-07-14   \n",
       "win                                                True   \n",
       "mac                                               False   \n",
       "linux                                             False   \n",
       "rating                                         Positive   \n",
       "positive_ratio                                       87   \n",
       "user_reviews                                         16   \n",
       "price_final                                       19.99   \n",
       "price_original                                    19.99   \n",
       "price_discounted                                  19.99   \n",
       "discount                                              0   \n",
       "steam_deck                                         True   \n",
       "all_platforms                                     False   \n",
       "count_platforms                                       2   \n",
       "\n",
       "                                              12             13  \\\n",
       "app_id                                    385870         396350   \n",
       "title             Monstrum - Original Soundtrack        Bleed 2   \n",
       "date_release                          2015-07-17     2017-02-08   \n",
       "win                                         True           True   \n",
       "mac                                         True           True   \n",
       "linux                                       True           True   \n",
       "rating                                  Positive  Very Positive   \n",
       "positive_ratio                                92             96   \n",
       "user_reviews                                  14            454   \n",
       "price_final                                 4.99           9.99   \n",
       "price_original                              4.99           9.99   \n",
       "price_discounted                            4.99           9.99   \n",
       "discount                                       0              0   \n",
       "steam_deck                                  True           True   \n",
       "all_platforms                               True           True   \n",
       "count_platforms                                4              4   \n",
       "\n",
       "                               14  \n",
       "app_id                     407980  \n",
       "title              Sakura Beach 2  \n",
       "date_release           2015-11-06  \n",
       "win                          True  \n",
       "mac                         False  \n",
       "linux                        True  \n",
       "rating            Mostly Positive  \n",
       "positive_ratio                 79  \n",
       "user_reviews                  248  \n",
       "price_final                  9.99  \n",
       "price_original               9.99  \n",
       "price_discounted             9.99  \n",
       "discount                        0  \n",
       "steam_deck                   True  \n",
       "all_platforms               False  \n",
       "count_platforms                 3  "
      ]
     },
     "metadata": {},
     "output_type": "display_data"
    }
   ],
   "source": [
    "sub = df[10:15]\n",
    "display(sub.T)"
   ]
  },
  {
   "cell_type": "markdown",
   "metadata": {},
   "source": [
    "### 7"
   ]
  },
  {
   "cell_type": "code",
   "execution_count": 12,
   "metadata": {},
   "outputs": [
    {
     "data": {
      "text/html": [
       "<div>\n",
       "<style scoped>\n",
       "    .dataframe tbody tr th:only-of-type {\n",
       "        vertical-align: middle;\n",
       "    }\n",
       "\n",
       "    .dataframe tbody tr th {\n",
       "        vertical-align: top;\n",
       "    }\n",
       "\n",
       "    .dataframe thead th {\n",
       "        text-align: right;\n",
       "    }\n",
       "</style>\n",
       "<table border=\"1\" class=\"dataframe\">\n",
       "  <thead>\n",
       "    <tr style=\"text-align: right;\">\n",
       "      <th></th>\n",
       "      <th>app_id</th>\n",
       "      <th>title</th>\n",
       "      <th>date_release</th>\n",
       "      <th>win</th>\n",
       "      <th>mac</th>\n",
       "      <th>linux</th>\n",
       "      <th>rating</th>\n",
       "      <th>positive_ratio</th>\n",
       "      <th>user_reviews</th>\n",
       "      <th>price_final</th>\n",
       "      <th>price_original</th>\n",
       "      <th>price_discounted</th>\n",
       "      <th>discount</th>\n",
       "      <th>steam_deck</th>\n",
       "      <th>all_platforms</th>\n",
       "      <th>count_platforms</th>\n",
       "    </tr>\n",
       "  </thead>\n",
       "  <tbody>\n",
       "    <tr>\n",
       "      <th>449</th>\n",
       "      <td>992740</td>\n",
       "      <td>祈風 Inorikaze</td>\n",
       "      <td>2019-02-13</td>\n",
       "      <td>True</td>\n",
       "      <td>False</td>\n",
       "      <td>False</td>\n",
       "      <td>Very Positive</td>\n",
       "      <td>100</td>\n",
       "      <td>305</td>\n",
       "      <td>10.99</td>\n",
       "      <td>10.99</td>\n",
       "      <td>10.99</td>\n",
       "      <td>0</td>\n",
       "      <td>True</td>\n",
       "      <td>False</td>\n",
       "      <td>2</td>\n",
       "    </tr>\n",
       "    <tr>\n",
       "      <th>11209</th>\n",
       "      <td>1176050</td>\n",
       "      <td>秘封旅行 ~ Secret Sealing Travel</td>\n",
       "      <td>2020-10-17</td>\n",
       "      <td>True</td>\n",
       "      <td>False</td>\n",
       "      <td>False</td>\n",
       "      <td>Very Positive</td>\n",
       "      <td>100</td>\n",
       "      <td>183</td>\n",
       "      <td>4.49</td>\n",
       "      <td>5.99</td>\n",
       "      <td>4.49</td>\n",
       "      <td>25</td>\n",
       "      <td>True</td>\n",
       "      <td>False</td>\n",
       "      <td>2</td>\n",
       "    </tr>\n",
       "    <tr>\n",
       "      <th>1464</th>\n",
       "      <td>1290220</td>\n",
       "      <td>Elasto Mania Remastered</td>\n",
       "      <td>2020-05-25</td>\n",
       "      <td>True</td>\n",
       "      <td>False</td>\n",
       "      <td>False</td>\n",
       "      <td>Very Positive</td>\n",
       "      <td>100</td>\n",
       "      <td>171</td>\n",
       "      <td>9.99</td>\n",
       "      <td>9.99</td>\n",
       "      <td>9.99</td>\n",
       "      <td>0</td>\n",
       "      <td>True</td>\n",
       "      <td>False</td>\n",
       "      <td>2</td>\n",
       "    </tr>\n",
       "    <tr>\n",
       "      <th>9354</th>\n",
       "      <td>1082920</td>\n",
       "      <td>missed messages - Fan Pack</td>\n",
       "      <td>2019-05-28</td>\n",
       "      <td>True</td>\n",
       "      <td>True</td>\n",
       "      <td>True</td>\n",
       "      <td>Very Positive</td>\n",
       "      <td>100</td>\n",
       "      <td>124</td>\n",
       "      <td>4.99</td>\n",
       "      <td>4.99</td>\n",
       "      <td>4.99</td>\n",
       "      <td>0</td>\n",
       "      <td>True</td>\n",
       "      <td>True</td>\n",
       "      <td>4</td>\n",
       "    </tr>\n",
       "    <tr>\n",
       "      <th>9381</th>\n",
       "      <td>2205290</td>\n",
       "      <td>流光易逝的夏末 - Fleeting Summer's End</td>\n",
       "      <td>2023-01-06</td>\n",
       "      <td>True</td>\n",
       "      <td>False</td>\n",
       "      <td>False</td>\n",
       "      <td>Very Positive</td>\n",
       "      <td>100</td>\n",
       "      <td>121</td>\n",
       "      <td>2.99</td>\n",
       "      <td>2.99</td>\n",
       "      <td>2.99</td>\n",
       "      <td>0</td>\n",
       "      <td>True</td>\n",
       "      <td>False</td>\n",
       "      <td>2</td>\n",
       "    </tr>\n",
       "    <tr>\n",
       "      <th>876</th>\n",
       "      <td>862710</td>\n",
       "      <td>Kid,napper - Extra Content</td>\n",
       "      <td>2018-05-31</td>\n",
       "      <td>True</td>\n",
       "      <td>True</td>\n",
       "      <td>True</td>\n",
       "      <td>Very Positive</td>\n",
       "      <td>100</td>\n",
       "      <td>117</td>\n",
       "      <td>0.99</td>\n",
       "      <td>0.99</td>\n",
       "      <td>0.99</td>\n",
       "      <td>0</td>\n",
       "      <td>True</td>\n",
       "      <td>True</td>\n",
       "      <td>4</td>\n",
       "    </tr>\n",
       "    <tr>\n",
       "      <th>12975</th>\n",
       "      <td>1796170</td>\n",
       "      <td>Bunny e-Shop  The Art of the Game</td>\n",
       "      <td>2021-12-16</td>\n",
       "      <td>True</td>\n",
       "      <td>True</td>\n",
       "      <td>True</td>\n",
       "      <td>Very Positive</td>\n",
       "      <td>100</td>\n",
       "      <td>106</td>\n",
       "      <td>2.33</td>\n",
       "      <td>2.99</td>\n",
       "      <td>2.33</td>\n",
       "      <td>22</td>\n",
       "      <td>True</td>\n",
       "      <td>True</td>\n",
       "      <td>4</td>\n",
       "    </tr>\n",
       "    <tr>\n",
       "      <th>129</th>\n",
       "      <td>1727830</td>\n",
       "      <td>OPUS: Echo of Starsong Original Soundtrack -Be...</td>\n",
       "      <td>2021-08-31</td>\n",
       "      <td>False</td>\n",
       "      <td>False</td>\n",
       "      <td>False</td>\n",
       "      <td>Very Positive</td>\n",
       "      <td>100</td>\n",
       "      <td>100</td>\n",
       "      <td>7.99</td>\n",
       "      <td>7.99</td>\n",
       "      <td>7.99</td>\n",
       "      <td>0</td>\n",
       "      <td>True</td>\n",
       "      <td>False</td>\n",
       "      <td>1</td>\n",
       "    </tr>\n",
       "    <tr>\n",
       "      <th>13091</th>\n",
       "      <td>1028530</td>\n",
       "      <td>Paper Memories - Comics from Finding Paradise ...</td>\n",
       "      <td>2019-03-08</td>\n",
       "      <td>True</td>\n",
       "      <td>True</td>\n",
       "      <td>True</td>\n",
       "      <td>Very Positive</td>\n",
       "      <td>100</td>\n",
       "      <td>90</td>\n",
       "      <td>1.99</td>\n",
       "      <td>1.99</td>\n",
       "      <td>1.99</td>\n",
       "      <td>0</td>\n",
       "      <td>True</td>\n",
       "      <td>True</td>\n",
       "      <td>4</td>\n",
       "    </tr>\n",
       "    <tr>\n",
       "      <th>8957</th>\n",
       "      <td>1229060</td>\n",
       "      <td>Dungeon and Puzzles</td>\n",
       "      <td>2021-01-14</td>\n",
       "      <td>True</td>\n",
       "      <td>True</td>\n",
       "      <td>False</td>\n",
       "      <td>Very Positive</td>\n",
       "      <td>100</td>\n",
       "      <td>89</td>\n",
       "      <td>7.99</td>\n",
       "      <td>7.99</td>\n",
       "      <td>7.99</td>\n",
       "      <td>0</td>\n",
       "      <td>True</td>\n",
       "      <td>False</td>\n",
       "      <td>3</td>\n",
       "    </tr>\n",
       "    <tr>\n",
       "      <th>12131</th>\n",
       "      <td>1029650</td>\n",
       "      <td>יום פתוח (Open Day)</td>\n",
       "      <td>2022-06-22</td>\n",
       "      <td>True</td>\n",
       "      <td>False</td>\n",
       "      <td>False</td>\n",
       "      <td>Very Positive</td>\n",
       "      <td>100</td>\n",
       "      <td>89</td>\n",
       "      <td>14.99</td>\n",
       "      <td>14.99</td>\n",
       "      <td>14.99</td>\n",
       "      <td>0</td>\n",
       "      <td>True</td>\n",
       "      <td>False</td>\n",
       "      <td>2</td>\n",
       "    </tr>\n",
       "    <tr>\n",
       "      <th>5902</th>\n",
       "      <td>1925870</td>\n",
       "      <td>THE ART OF FAR AWAY</td>\n",
       "      <td>2022-03-17</td>\n",
       "      <td>True</td>\n",
       "      <td>False</td>\n",
       "      <td>False</td>\n",
       "      <td>Very Positive</td>\n",
       "      <td>100</td>\n",
       "      <td>87</td>\n",
       "      <td>7.99</td>\n",
       "      <td>7.99</td>\n",
       "      <td>7.99</td>\n",
       "      <td>0</td>\n",
       "      <td>True</td>\n",
       "      <td>False</td>\n",
       "      <td>2</td>\n",
       "    </tr>\n",
       "    <tr>\n",
       "      <th>9280</th>\n",
       "      <td>1204930</td>\n",
       "      <td>Hop Step Sing! Astral Piece</td>\n",
       "      <td>2019-12-12</td>\n",
       "      <td>True</td>\n",
       "      <td>False</td>\n",
       "      <td>False</td>\n",
       "      <td>Very Positive</td>\n",
       "      <td>100</td>\n",
       "      <td>80</td>\n",
       "      <td>9.99</td>\n",
       "      <td>9.99</td>\n",
       "      <td>9.99</td>\n",
       "      <td>0</td>\n",
       "      <td>True</td>\n",
       "      <td>False</td>\n",
       "      <td>2</td>\n",
       "    </tr>\n",
       "    <tr>\n",
       "      <th>3272</th>\n",
       "      <td>1857650</td>\n",
       "      <td>DEEP FOG</td>\n",
       "      <td>2022-04-29</td>\n",
       "      <td>True</td>\n",
       "      <td>False</td>\n",
       "      <td>False</td>\n",
       "      <td>Very Positive</td>\n",
       "      <td>100</td>\n",
       "      <td>80</td>\n",
       "      <td>14.99</td>\n",
       "      <td>14.99</td>\n",
       "      <td>14.99</td>\n",
       "      <td>0</td>\n",
       "      <td>True</td>\n",
       "      <td>False</td>\n",
       "      <td>2</td>\n",
       "    </tr>\n",
       "    <tr>\n",
       "      <th>5660</th>\n",
       "      <td>762930</td>\n",
       "      <td>Supipara - Chapter 2 Spring Has Come!</td>\n",
       "      <td>2018-04-12</td>\n",
       "      <td>True</td>\n",
       "      <td>False</td>\n",
       "      <td>False</td>\n",
       "      <td>Very Positive</td>\n",
       "      <td>100</td>\n",
       "      <td>79</td>\n",
       "      <td>14.99</td>\n",
       "      <td>14.99</td>\n",
       "      <td>14.99</td>\n",
       "      <td>0</td>\n",
       "      <td>True</td>\n",
       "      <td>False</td>\n",
       "      <td>2</td>\n",
       "    </tr>\n",
       "    <tr>\n",
       "      <th>1790</th>\n",
       "      <td>1424630</td>\n",
       "      <td>CosmoDreamer</td>\n",
       "      <td>2020-10-02</td>\n",
       "      <td>True</td>\n",
       "      <td>False</td>\n",
       "      <td>False</td>\n",
       "      <td>Very Positive</td>\n",
       "      <td>100</td>\n",
       "      <td>78</td>\n",
       "      <td>7.99</td>\n",
       "      <td>7.99</td>\n",
       "      <td>7.99</td>\n",
       "      <td>0</td>\n",
       "      <td>True</td>\n",
       "      <td>False</td>\n",
       "      <td>2</td>\n",
       "    </tr>\n",
       "    <tr>\n",
       "      <th>9367</th>\n",
       "      <td>1593020</td>\n",
       "      <td>Milk inside a bag of milk inside a bag of milk...</td>\n",
       "      <td>2021-04-16</td>\n",
       "      <td>False</td>\n",
       "      <td>False</td>\n",
       "      <td>False</td>\n",
       "      <td>Very Positive</td>\n",
       "      <td>100</td>\n",
       "      <td>77</td>\n",
       "      <td>0.99</td>\n",
       "      <td>0.99</td>\n",
       "      <td>0.99</td>\n",
       "      <td>0</td>\n",
       "      <td>True</td>\n",
       "      <td>False</td>\n",
       "      <td>1</td>\n",
       "    </tr>\n",
       "    <tr>\n",
       "      <th>11680</th>\n",
       "      <td>1395730</td>\n",
       "      <td>There Is No Game: Wrong Dimension Soundtrack</td>\n",
       "      <td>2020-08-20</td>\n",
       "      <td>False</td>\n",
       "      <td>False</td>\n",
       "      <td>False</td>\n",
       "      <td>Very Positive</td>\n",
       "      <td>100</td>\n",
       "      <td>76</td>\n",
       "      <td>4.99</td>\n",
       "      <td>4.99</td>\n",
       "      <td>4.99</td>\n",
       "      <td>0</td>\n",
       "      <td>True</td>\n",
       "      <td>False</td>\n",
       "      <td>1</td>\n",
       "    </tr>\n",
       "    <tr>\n",
       "      <th>5530</th>\n",
       "      <td>1242754</td>\n",
       "      <td>Monster Hunter World: Iceborne - Pendant: Stro...</td>\n",
       "      <td>2020-04-08</td>\n",
       "      <td>True</td>\n",
       "      <td>False</td>\n",
       "      <td>False</td>\n",
       "      <td>Very Positive</td>\n",
       "      <td>100</td>\n",
       "      <td>75</td>\n",
       "      <td>0.59</td>\n",
       "      <td>0.99</td>\n",
       "      <td>0.59</td>\n",
       "      <td>40</td>\n",
       "      <td>True</td>\n",
       "      <td>False</td>\n",
       "      <td>2</td>\n",
       "    </tr>\n",
       "    <tr>\n",
       "      <th>5898</th>\n",
       "      <td>1805200</td>\n",
       "      <td>Shirone: the Dragon Girl</td>\n",
       "      <td>2022-03-09</td>\n",
       "      <td>True</td>\n",
       "      <td>False</td>\n",
       "      <td>False</td>\n",
       "      <td>Very Positive</td>\n",
       "      <td>100</td>\n",
       "      <td>74</td>\n",
       "      <td>14.99</td>\n",
       "      <td>14.99</td>\n",
       "      <td>14.99</td>\n",
       "      <td>0</td>\n",
       "      <td>True</td>\n",
       "      <td>False</td>\n",
       "      <td>2</td>\n",
       "    </tr>\n",
       "  </tbody>\n",
       "</table>\n",
       "</div>"
      ],
      "text/plain": [
       "        app_id                                              title  \\\n",
       "449     992740                                       祈風 Inorikaze   \n",
       "11209  1176050                       秘封旅行 ~ Secret Sealing Travel   \n",
       "1464   1290220                            Elasto Mania Remastered   \n",
       "9354   1082920                         missed messages - Fan Pack   \n",
       "9381   2205290                    流光易逝的夏末 - Fleeting Summer's End   \n",
       "876     862710                         Kid,napper - Extra Content   \n",
       "12975  1796170                  Bunny e-Shop  The Art of the Game   \n",
       "129    1727830  OPUS: Echo of Starsong Original Soundtrack -Be...   \n",
       "13091  1028530  Paper Memories - Comics from Finding Paradise ...   \n",
       "8957   1229060                                Dungeon and Puzzles   \n",
       "12131  1029650                                יום פתוח (Open Day)   \n",
       "5902   1925870                                THE ART OF FAR AWAY   \n",
       "9280   1204930                        Hop Step Sing! Astral Piece   \n",
       "3272   1857650                                           DEEP FOG   \n",
       "5660    762930              Supipara - Chapter 2 Spring Has Come!   \n",
       "1790   1424630                                       CosmoDreamer   \n",
       "9367   1593020  Milk inside a bag of milk inside a bag of milk...   \n",
       "11680  1395730       There Is No Game: Wrong Dimension Soundtrack   \n",
       "5530   1242754  Monster Hunter World: Iceborne - Pendant: Stro...   \n",
       "5898   1805200                           Shirone: the Dragon Girl   \n",
       "\n",
       "      date_release    win    mac  linux         rating  positive_ratio  \\\n",
       "449     2019-02-13   True  False  False  Very Positive             100   \n",
       "11209   2020-10-17   True  False  False  Very Positive             100   \n",
       "1464    2020-05-25   True  False  False  Very Positive             100   \n",
       "9354    2019-05-28   True   True   True  Very Positive             100   \n",
       "9381    2023-01-06   True  False  False  Very Positive             100   \n",
       "876     2018-05-31   True   True   True  Very Positive             100   \n",
       "12975   2021-12-16   True   True   True  Very Positive             100   \n",
       "129     2021-08-31  False  False  False  Very Positive             100   \n",
       "13091   2019-03-08   True   True   True  Very Positive             100   \n",
       "8957    2021-01-14   True   True  False  Very Positive             100   \n",
       "12131   2022-06-22   True  False  False  Very Positive             100   \n",
       "5902    2022-03-17   True  False  False  Very Positive             100   \n",
       "9280    2019-12-12   True  False  False  Very Positive             100   \n",
       "3272    2022-04-29   True  False  False  Very Positive             100   \n",
       "5660    2018-04-12   True  False  False  Very Positive             100   \n",
       "1790    2020-10-02   True  False  False  Very Positive             100   \n",
       "9367    2021-04-16  False  False  False  Very Positive             100   \n",
       "11680   2020-08-20  False  False  False  Very Positive             100   \n",
       "5530    2020-04-08   True  False  False  Very Positive             100   \n",
       "5898    2022-03-09   True  False  False  Very Positive             100   \n",
       "\n",
       "       user_reviews  price_final  price_original  price_discounted  discount  \\\n",
       "449             305        10.99           10.99             10.99         0   \n",
       "11209           183         4.49            5.99              4.49        25   \n",
       "1464            171         9.99            9.99              9.99         0   \n",
       "9354            124         4.99            4.99              4.99         0   \n",
       "9381            121         2.99            2.99              2.99         0   \n",
       "876             117         0.99            0.99              0.99         0   \n",
       "12975           106         2.33            2.99              2.33        22   \n",
       "129             100         7.99            7.99              7.99         0   \n",
       "13091            90         1.99            1.99              1.99         0   \n",
       "8957             89         7.99            7.99              7.99         0   \n",
       "12131            89        14.99           14.99             14.99         0   \n",
       "5902             87         7.99            7.99              7.99         0   \n",
       "9280             80         9.99            9.99              9.99         0   \n",
       "3272             80        14.99           14.99             14.99         0   \n",
       "5660             79        14.99           14.99             14.99         0   \n",
       "1790             78         7.99            7.99              7.99         0   \n",
       "9367             77         0.99            0.99              0.99         0   \n",
       "11680            76         4.99            4.99              4.99         0   \n",
       "5530             75         0.59            0.99              0.59        40   \n",
       "5898             74        14.99           14.99             14.99         0   \n",
       "\n",
       "       steam_deck  all_platforms  count_platforms  \n",
       "449          True          False                2  \n",
       "11209        True          False                2  \n",
       "1464         True          False                2  \n",
       "9354         True           True                4  \n",
       "9381         True          False                2  \n",
       "876          True           True                4  \n",
       "12975        True           True                4  \n",
       "129          True          False                1  \n",
       "13091        True           True                4  \n",
       "8957         True          False                3  \n",
       "12131        True          False                2  \n",
       "5902         True          False                2  \n",
       "9280         True          False                2  \n",
       "3272         True          False                2  \n",
       "5660         True          False                2  \n",
       "1790         True          False                2  \n",
       "9367         True          False                1  \n",
       "11680        True          False                1  \n",
       "5530         True          False                2  \n",
       "5898         True          False                2  "
      ]
     },
     "metadata": {},
     "output_type": "display_data"
    }
   ],
   "source": [
    "df = df.sort_values(by = ['positive_ratio', 'user_reviews', 'price_final'],ascending=[False, False, True])\n",
    "\n",
    "display(df.head(20))"
   ]
  },
  {
   "cell_type": "markdown",
   "metadata": {},
   "source": [
    "### 8"
   ]
  },
  {
   "cell_type": "code",
   "execution_count": 13,
   "metadata": {},
   "outputs": [
    {
     "name": "stdout",
     "output_type": "stream",
     "text": [
      "Цель исследования -- изучение рынка видеоигр на платформе Steam\n",
      "\n",
      "Задачи:\n",
      "- Сбор данных\n",
      " - Анализ данных на предмет взаимосвязи различных переменных\n"
     ]
    }
   ],
   "source": [
    "print(\"Цель исследования -- изучение рынка видеоигр на платформе Steam\\n\")\n",
    "\n",
    "print(\"Задачи:\\n- Сбор данных\\n - Анализ данных на предмет взаимосвязи различных переменных\")"
   ]
  },
  {
   "cell_type": "markdown",
   "metadata": {},
   "source": [
    "### 9"
   ]
  },
  {
   "cell_type": "code",
   "execution_count": 70,
   "metadata": {},
   "outputs": [
    {
     "name": "stdout",
     "output_type": "stream",
     "text": [
      "Наши гипотезы:\n",
      "1. Чем игра дешевле игра, тем больше её скачивают, а значит и оставляют больше отзывов\n",
      "2. Игры стараются делать доступными для всех операционных систем\n",
      "3. Windows является наиболее популярной ОС и абсолютное болььшинство игр доступны на ней\n",
      "4. Чем старше игра, тем больше отзывов она имеет\n",
      "5. Чем старше игра, тем меньше операционных систем она поддерживает\n",
      "6. Цена игры со скидкой в среднем меньше финальной в полтора раза\n",
      "7. Чем больше отзывов имеет игра, тем больше среднеквадратическое отклонение отношения отзывов\n"
     ]
    }
   ],
   "source": [
    "print(\"Наши гипотезы:\")\n",
    "print(\"1. Чем игра дешевле игра, тем больше её скачивают, а значит и оставляют больше отзывов\")\n",
    "print(\"2. Игры стараются делать доступными для всех операционных систем\")\n",
    "print(\"3. Windows является наиболее популярной ОС и абсолютное болььшинство игр доступны на ней\")\n",
    "print(\"4. Чем старше игра, тем больше отзывов она имеет\")\n",
    "print(\"5. Чем старше игра, тем меньше операционных систем она поддерживает\")\n",
    "print(\"6. Цена игры со скидкой в среднем меньше финальной в полтора раза\")\n",
    "print(\"7. Чем больше отзывов имеет игра, тем больше среднеквадратическое отклонение отношения отзывов\")\n",
    "print(\"8. Чем дороже игра, тем больше платформ она поддерживает\")\n",
    "print(\"9. Бесплатные игры чаще поддерживают Linux, чем платные ввиду свободолюбивой политики пользователей линукса\")\n",
    "print(\"10. \")"
   ]
  },
  {
   "cell_type": "markdown",
   "metadata": {},
   "source": [
    "### 10"
   ]
  },
  {
   "cell_type": "code",
   "execution_count": 15,
   "metadata": {
    "scrolled": true
   },
   "outputs": [
    {
     "name": "stdout",
     "output_type": "stream",
     "text": [
      "В среднем, чем выше цена игры, тем меньше отзывов на неё оставляют\n"
     ]
    },
    {
     "data": {
      "image/png": "[encoded data removed]",
      "text/plain": [
       "<Figure size 640x480 with 1 Axes>"
      ]
     },
     "metadata": {},
     "output_type": "display_data"
    }
   ],
   "source": [
    "df3 = df.sort_values(by='price_final')\n",
    "\n",
    "x = df3['price_final']\n",
    "y = df3['user_reviews']\n",
    "\n",
    "plt.title('Взаимосвязь цены игры и количества отзывов')\n",
    "plt.xlabel('Цена игры в долларах США $')\n",
    "plt.ylabel('Количество сотен тысяч отзывов')\n",
    "plt.plot(x,y)\n",
    "print('В среднем, чем выше цена игры, тем меньше отзывов на неё оставляют')"
   ]
  },
  {
   "cell_type": "code",
   "execution_count": 16,
   "metadata": {},
   "outputs": [
    {
     "name": "stdout",
     "output_type": "stream",
     "text": [
      "Большинство игры не поддерживают все платформы, причем среди поддерживающих большинство с самым высоким рейтингом. Соотношение рейтингов в среднем такое же, кроме Positive и Very Positive\n"
     ]
    },
    {
     "data": {
      "image/png": "[encoded data removed]",
      "text/plain": [
       "<Figure size 640x480 with 1 Axes>"
      ]
     },
     "metadata": {},
     "output_type": "display_data"
    }
   ],
   "source": [
    "df.groupby('all_platforms')['rating'].value_counts().unstack().plot(kind='bar',title='Связь поддержки всех доступных ОС и рейтинга игры',ylabel = 'Количество игр шт.',xlabel='Поддержка всех ОС')\n",
    "\n",
    "print(\"Большинство игры не поддерживают все платформы, причем среди поддерживающих большинство с самым высоким рейтингом. Соотношение рейтингов в среднем такое же, кроме Positive и Very Positive\")"
   ]
  },
  {
   "cell_type": "code",
   "execution_count": 17,
   "metadata": {},
   "outputs": [
    {
     "name": "stdout",
     "output_type": "stream",
     "text": [
      "Абсолютное большинство игр выпускаются на Windows из чего можно сделать вывод, что это наиболее популярная ОС для игр\n"
     ]
    },
    {
     "data": {
      "image/png": "[encoded data removed]",
      "text/plain": [
       "<Figure size 640x480 with 1 Axes>"
      ]
     },
     "metadata": {},
     "output_type": "display_data"
    }
   ],
   "source": [
    "df.groupby('win')['rating'].value_counts().unstack().plot(kind='bar',title='Связь Windows и рейтинга игры',ylabel = 'Количество игр шт.',xlabel='Поддержка Windows')\n",
    "\n",
    "print(\"Абсолютное большинство игр выпускаются на Windows из чего можно сделать вывод, что это наиболее популярная ОС для игр\")"
   ]
  },
  {
   "cell_type": "code",
   "execution_count": 18,
   "metadata": {},
   "outputs": [
    {
     "name": "stdout",
     "output_type": "stream",
     "text": [
      "В среднем, новые игры имеют больше отзывов, значит люди менее охотно играют в старые игры\n"
     ]
    },
    {
     "data": {
      "image/png": "[encoded data removed]",
      "text/plain": [
       "<Figure size 640x480 with 1 Axes>"
      ]
     },
     "metadata": {},
     "output_type": "display_data"
    }
   ],
   "source": [
    "df3 = df.sort_values(by='date_release')\n",
    "\n",
    "x = df3['date_release']\n",
    "y = df3['price_final']\n",
    "\n",
    "plt.title('Взаимосвязь даты выхода и количества отзывов')\n",
    "plt.xlabel('Дата выхода игры')\n",
    "plt.ylabel('Количество сотен тысяч отзывов')\n",
    "plt.scatter(x,y)\n",
    "print('В среднем, новые игры имеют больше отзывов, значит люди менее охотно играют в старые игры')"
   ]
  },
  {
   "cell_type": "code",
   "execution_count": 19,
   "metadata": {},
   "outputs": [
    {
     "name": "stdout",
     "output_type": "stream",
     "text": [
      "Чем младше игра, тем больше она в среднем поддерживает ОС\n"
     ]
    },
    {
     "data": {
      "image/png": "[encoded data removed]",
      "text/plain": [
       "<Figure size 640x480 with 1 Axes>"
      ]
     },
     "metadata": {},
     "output_type": "display_data"
    }
   ],
   "source": [
    "df3 = df.sort_values(by='count_platforms')\n",
    "\n",
    "y = df3['count_platforms']\n",
    "x = df3['date_release']\n",
    "\n",
    "plt.title('Взаимосвязь даты выхода и количество поддерживаемых ОС')\n",
    "plt.xlabel('Дата выхода игры')\n",
    "plt.ylabel('Количество поддерживаемых ОС')\n",
    "plt.scatter(x,y)\n",
    "print('Чем младше игра, тем больше она в среднем поддерживает ОС')"
   ]
  },
  {
   "cell_type": "markdown",
   "metadata": {},
   "source": [
    "### 11"
   ]
  },
  {
   "cell_type": "code",
   "execution_count": 20,
   "metadata": {},
   "outputs": [],
   "source": [
    "# rating, win, mac, linux, steam_deck\n",
    "# positive_ratio, user_reviews, price_final, price_original, price_discount, discount"
   ]
  },
  {
   "cell_type": "code",
   "execution_count": 24,
   "metadata": {
    "scrolled": true
   },
   "outputs": [
    {
     "data": {
      "text/html": [
       "<div>\n",
       "<style scoped>\n",
       "    .dataframe tbody tr th:only-of-type {\n",
       "        vertical-align: middle;\n",
       "    }\n",
       "\n",
       "    .dataframe tbody tr th {\n",
       "        vertical-align: top;\n",
       "    }\n",
       "\n",
       "    .dataframe thead th {\n",
       "        text-align: right;\n",
       "    }\n",
       "</style>\n",
       "<table border=\"1\" class=\"dataframe\">\n",
       "  <thead>\n",
       "    <tr style=\"text-align: right;\">\n",
       "      <th>linux</th>\n",
       "      <th>False</th>\n",
       "      <th>True</th>\n",
       "    </tr>\n",
       "    <tr>\n",
       "      <th>mac</th>\n",
       "      <th></th>\n",
       "      <th></th>\n",
       "    </tr>\n",
       "  </thead>\n",
       "  <tbody>\n",
       "    <tr>\n",
       "      <th>False</th>\n",
       "      <td>82.973113</td>\n",
       "      <td>86.428571</td>\n",
       "    </tr>\n",
       "    <tr>\n",
       "      <th>True</th>\n",
       "      <td>84.413278</td>\n",
       "      <td>84.490385</td>\n",
       "    </tr>\n",
       "  </tbody>\n",
       "</table>\n",
       "</div>"
      ],
      "text/plain": [
       "linux      False      True \n",
       "mac                        \n",
       "False  82.973113  86.428571\n",
       "True   84.413278  84.490385"
      ]
     },
     "execution_count": 24,
     "metadata": {},
     "output_type": "execute_result"
    }
   ],
   "source": [
    "df.pivot_table('positive_ratio', index='mac', columns='linux')"
   ]
  },
  {
   "cell_type": "code",
   "execution_count": 33,
   "metadata": {},
   "outputs": [
    {
     "name": "stdout",
     "output_type": "stream",
     "text": [
      "Игры, которые поддерживают Линукс в среднем оцениваются немного лучше, чем игры без поддержки Linux\n"
     ]
    }
   ],
   "source": [
    "print(\"Игры, которые поддерживают Линукс в среднем оцениваются немного лучше, чем игры без поддержки Linux\")"
   ]
  },
  {
   "cell_type": "code",
   "execution_count": 31,
   "metadata": {},
   "outputs": [
    {
     "data": {
      "text/html": [
       "<div>\n",
       "<style scoped>\n",
       "    .dataframe tbody tr th:only-of-type {\n",
       "        vertical-align: middle;\n",
       "    }\n",
       "\n",
       "    .dataframe tbody tr th {\n",
       "        vertical-align: top;\n",
       "    }\n",
       "\n",
       "    .dataframe thead th {\n",
       "        text-align: right;\n",
       "    }\n",
       "</style>\n",
       "<table border=\"1\" class=\"dataframe\">\n",
       "  <thead>\n",
       "    <tr style=\"text-align: right;\">\n",
       "      <th>win</th>\n",
       "      <th>False</th>\n",
       "      <th>True</th>\n",
       "    </tr>\n",
       "    <tr>\n",
       "      <th>rating</th>\n",
       "      <th></th>\n",
       "      <th></th>\n",
       "    </tr>\n",
       "  </thead>\n",
       "  <tbody>\n",
       "    <tr>\n",
       "      <th>Mixed</th>\n",
       "      <td>6.7825</td>\n",
       "      <td>11.546383</td>\n",
       "    </tr>\n",
       "    <tr>\n",
       "      <th>Mostly Negative</th>\n",
       "      <td>&lt;NA&gt;</td>\n",
       "      <td>11.561429</td>\n",
       "    </tr>\n",
       "    <tr>\n",
       "      <th>Mostly Positive</th>\n",
       "      <td>8.878889</td>\n",
       "      <td>10.225679</td>\n",
       "    </tr>\n",
       "    <tr>\n",
       "      <th>Overwhelmingly Positive</th>\n",
       "      <td>0.0</td>\n",
       "      <td>6.385291</td>\n",
       "    </tr>\n",
       "    <tr>\n",
       "      <th>Positive</th>\n",
       "      <td>6.229955</td>\n",
       "      <td>7.979161</td>\n",
       "    </tr>\n",
       "    <tr>\n",
       "      <th>Very Positive</th>\n",
       "      <td>5.381935</td>\n",
       "      <td>7.095131</td>\n",
       "    </tr>\n",
       "  </tbody>\n",
       "</table>\n",
       "</div>"
      ],
      "text/plain": [
       "win                         False      True \n",
       "rating                                      \n",
       "Mixed                      6.7825  11.546383\n",
       "Mostly Negative              <NA>  11.561429\n",
       "Mostly Positive          8.878889  10.225679\n",
       "Overwhelmingly Positive       0.0   6.385291\n",
       "Positive                 6.229955   7.979161\n",
       "Very Positive            5.381935   7.095131"
      ]
     },
     "execution_count": 31,
     "metadata": {},
     "output_type": "execute_result"
    }
   ],
   "source": [
    "df.pivot_table('price_final', index='rating', columns='win')"
   ]
  },
  {
   "cell_type": "code",
   "execution_count": 29,
   "metadata": {},
   "outputs": [
    {
     "name": "stdout",
     "output_type": "stream",
     "text": [
      "Как можно заметить, вне зависимости от оценок пользователей, игры без поддержки системы Windows публикуются с меньшей ценой, чем игры с поддержкой \n"
     ]
    }
   ],
   "source": [
    "print(\"Как можно заметить, вне зависимости от оценок пользователей, игры без поддержки системы Windows публикуются с меньшей ценой, чем игры с поддержкой \")"
   ]
  },
  {
   "cell_type": "code",
   "execution_count": 36,
   "metadata": {},
   "outputs": [
    {
     "data": {
      "text/html": [
       "<div>\n",
       "<style scoped>\n",
       "    .dataframe tbody tr th:only-of-type {\n",
       "        vertical-align: middle;\n",
       "    }\n",
       "\n",
       "    .dataframe tbody tr th {\n",
       "        vertical-align: top;\n",
       "    }\n",
       "\n",
       "    .dataframe thead th {\n",
       "        text-align: right;\n",
       "    }\n",
       "</style>\n",
       "<table border=\"1\" class=\"dataframe\">\n",
       "  <thead>\n",
       "    <tr style=\"text-align: right;\">\n",
       "      <th>mac</th>\n",
       "      <th>False</th>\n",
       "      <th>True</th>\n",
       "    </tr>\n",
       "    <tr>\n",
       "      <th>rating</th>\n",
       "      <th></th>\n",
       "      <th></th>\n",
       "    </tr>\n",
       "  </thead>\n",
       "  <tbody>\n",
       "    <tr>\n",
       "      <th>Mixed</th>\n",
       "      <td>90</td>\n",
       "      <td>90</td>\n",
       "    </tr>\n",
       "    <tr>\n",
       "      <th>Mostly Negative</th>\n",
       "      <td>40</td>\n",
       "      <td>0</td>\n",
       "    </tr>\n",
       "    <tr>\n",
       "      <th>Mostly Positive</th>\n",
       "      <td>90</td>\n",
       "      <td>90</td>\n",
       "    </tr>\n",
       "    <tr>\n",
       "      <th>Overwhelmingly Positive</th>\n",
       "      <td>70</td>\n",
       "      <td>75</td>\n",
       "    </tr>\n",
       "    <tr>\n",
       "      <th>Positive</th>\n",
       "      <td>90</td>\n",
       "      <td>90</td>\n",
       "    </tr>\n",
       "    <tr>\n",
       "      <th>Very Positive</th>\n",
       "      <td>90</td>\n",
       "      <td>90</td>\n",
       "    </tr>\n",
       "  </tbody>\n",
       "</table>\n",
       "</div>"
      ],
      "text/plain": [
       "mac                      False  True \n",
       "rating                               \n",
       "Mixed                       90     90\n",
       "Mostly Negative             40      0\n",
       "Mostly Positive             90     90\n",
       "Overwhelmingly Positive     70     75\n",
       "Positive                    90     90\n",
       "Very Positive               90     90"
      ]
     },
     "execution_count": 36,
     "metadata": {},
     "output_type": "execute_result"
    }
   ],
   "source": [
    "df.pivot_table('discount', index='rating', columns='mac', aggfunc=max)"
   ]
  },
  {
   "cell_type": "code",
   "execution_count": 37,
   "metadata": {},
   "outputs": [
    {
     "name": "stdout",
     "output_type": "stream",
     "text": [
      "Вне зависимости от поддержки системы Mac, на очень негативно оцененные игры не делают скидок\n"
     ]
    }
   ],
   "source": [
    "print(\"Вне зависимости от поддержки системы Mac, на очень негативно оцененные игры не делают скидок\")"
   ]
  },
  {
   "cell_type": "markdown",
   "metadata": {},
   "source": [
    "### 12"
   ]
  },
  {
   "cell_type": "code",
   "execution_count": 47,
   "metadata": {
    "scrolled": true
   },
   "outputs": [
    {
     "data": {
      "text/html": [
       "<div>\n",
       "<style scoped>\n",
       "    .dataframe tbody tr th:only-of-type {\n",
       "        vertical-align: middle;\n",
       "    }\n",
       "\n",
       "    .dataframe tbody tr th {\n",
       "        vertical-align: top;\n",
       "    }\n",
       "\n",
       "    .dataframe thead th {\n",
       "        text-align: right;\n",
       "    }\n",
       "</style>\n",
       "<table border=\"1\" class=\"dataframe\">\n",
       "  <thead>\n",
       "    <tr style=\"text-align: right;\">\n",
       "      <th></th>\n",
       "      <th>app_id</th>\n",
       "      <th>positive_ratio</th>\n",
       "      <th>user_reviews</th>\n",
       "      <th>price_final</th>\n",
       "      <th>price_original</th>\n",
       "      <th>price_discounted</th>\n",
       "      <th>discount</th>\n",
       "      <th>count_platforms</th>\n",
       "    </tr>\n",
       "  </thead>\n",
       "  <tbody>\n",
       "    <tr>\n",
       "      <th>count</th>\n",
       "      <td>13469.0</td>\n",
       "      <td>13469.0</td>\n",
       "      <td>13469.0</td>\n",
       "      <td>13469.0</td>\n",
       "      <td>13443.0</td>\n",
       "      <td>13443.0</td>\n",
       "      <td>13469.0</td>\n",
       "      <td>13469.000000</td>\n",
       "    </tr>\n",
       "    <tr>\n",
       "      <th>mean</th>\n",
       "      <td>975663.524464</td>\n",
       "      <td>83.520974</td>\n",
       "      <td>2979.550375</td>\n",
       "      <td>8.48699</td>\n",
       "      <td>9.188369</td>\n",
       "      <td>8.492626</td>\n",
       "      <td>8.293043</td>\n",
       "      <td>2.475536</td>\n",
       "    </tr>\n",
       "    <tr>\n",
       "      <th>std</th>\n",
       "      <td>560834.015573</td>\n",
       "      <td>12.831449</td>\n",
       "      <td>70372.645415</td>\n",
       "      <td>9.346087</td>\n",
       "      <td>9.713703</td>\n",
       "      <td>9.348321</td>\n",
       "      <td>22.459214</td>\n",
       "      <td>0.793742</td>\n",
       "    </tr>\n",
       "    <tr>\n",
       "      <th>min</th>\n",
       "      <td>440.0</td>\n",
       "      <td>24.0</td>\n",
       "      <td>10.0</td>\n",
       "      <td>0.0</td>\n",
       "      <td>0.0</td>\n",
       "      <td>0.0</td>\n",
       "      <td>0.0</td>\n",
       "      <td>1.000000</td>\n",
       "    </tr>\n",
       "    <tr>\n",
       "      <th>25%</th>\n",
       "      <td>489460.0</td>\n",
       "      <td>77.0</td>\n",
       "      <td>20.0</td>\n",
       "      <td>2.49</td>\n",
       "      <td>2.99</td>\n",
       "      <td>2.49</td>\n",
       "      <td>0.0</td>\n",
       "      <td>2.000000</td>\n",
       "    </tr>\n",
       "    <tr>\n",
       "      <th>50%</th>\n",
       "      <td>910450.0</td>\n",
       "      <td>86.0</td>\n",
       "      <td>47.0</td>\n",
       "      <td>5.99</td>\n",
       "      <td>6.99</td>\n",
       "      <td>5.99</td>\n",
       "      <td>0.0</td>\n",
       "      <td>2.000000</td>\n",
       "    </tr>\n",
       "    <tr>\n",
       "      <th>75%</th>\n",
       "      <td>1419290.0</td>\n",
       "      <td>93.0</td>\n",
       "      <td>146.0</td>\n",
       "      <td>9.99</td>\n",
       "      <td>11.99</td>\n",
       "      <td>9.99</td>\n",
       "      <td>0.0</td>\n",
       "      <td>3.000000</td>\n",
       "    </tr>\n",
       "    <tr>\n",
       "      <th>max</th>\n",
       "      <td>2266310.0</td>\n",
       "      <td>100.0</td>\n",
       "      <td>6870243.0</td>\n",
       "      <td>149.99</td>\n",
       "      <td>199.99</td>\n",
       "      <td>149.99</td>\n",
       "      <td>90.0</td>\n",
       "      <td>4.000000</td>\n",
       "    </tr>\n",
       "  </tbody>\n",
       "</table>\n",
       "</div>"
      ],
      "text/plain": [
       "              app_id  positive_ratio  user_reviews  price_final  \\\n",
       "count        13469.0         13469.0       13469.0      13469.0   \n",
       "mean   975663.524464       83.520974   2979.550375      8.48699   \n",
       "std    560834.015573       12.831449  70372.645415     9.346087   \n",
       "min            440.0            24.0          10.0          0.0   \n",
       "25%         489460.0            77.0          20.0         2.49   \n",
       "50%         910450.0            86.0          47.0         5.99   \n",
       "75%        1419290.0            93.0         146.0         9.99   \n",
       "max        2266310.0           100.0     6870243.0       149.99   \n",
       "\n",
       "       price_original  price_discounted   discount  count_platforms  \n",
       "count         13443.0           13443.0    13469.0     13469.000000  \n",
       "mean         9.188369          8.492626   8.293043         2.475536  \n",
       "std          9.713703          9.348321  22.459214         0.793742  \n",
       "min               0.0               0.0        0.0         1.000000  \n",
       "25%              2.99              2.49        0.0         2.000000  \n",
       "50%              6.99              5.99        0.0         2.000000  \n",
       "75%             11.99              9.99        0.0         3.000000  \n",
       "max            199.99            149.99       90.0         4.000000  "
      ]
     },
     "metadata": {},
     "output_type": "display_data"
    }
   ],
   "source": [
    "df.describe()"
   ]
  },
  {
   "cell_type": "code",
   "execution_count": 51,
   "metadata": {},
   "outputs": [
    {
     "name": "stdout",
     "output_type": "stream",
     "text": [
      "Описательная статистика для всего датасета\n"
     ]
    }
   ],
   "source": [
    "print(\"Описательная статистика для всего датасета\")"
   ]
  },
  {
   "cell_type": "code",
   "execution_count": 50,
   "metadata": {
    "scrolled": true
   },
   "outputs": [
    {
     "data": {
      "text/html": [
       "<div>\n",
       "<style scoped>\n",
       "    .dataframe tbody tr th:only-of-type {\n",
       "        vertical-align: middle;\n",
       "    }\n",
       "\n",
       "    .dataframe tbody tr th {\n",
       "        vertical-align: top;\n",
       "    }\n",
       "\n",
       "    .dataframe thead th {\n",
       "        text-align: right;\n",
       "    }\n",
       "</style>\n",
       "<table border=\"1\" class=\"dataframe\">\n",
       "  <thead>\n",
       "    <tr style=\"text-align: right;\">\n",
       "      <th></th>\n",
       "      <th>app_id</th>\n",
       "      <th>positive_ratio</th>\n",
       "      <th>user_reviews</th>\n",
       "      <th>price_final</th>\n",
       "      <th>price_original</th>\n",
       "      <th>price_discounted</th>\n",
       "      <th>discount</th>\n",
       "      <th>count_platforms</th>\n",
       "    </tr>\n",
       "  </thead>\n",
       "  <tbody>\n",
       "    <tr>\n",
       "      <th>count</th>\n",
       "      <td>2287.0</td>\n",
       "      <td>2287.0</td>\n",
       "      <td>2287.0</td>\n",
       "      <td>2287.0</td>\n",
       "      <td>2283.0</td>\n",
       "      <td>2283.0</td>\n",
       "      <td>2287.0</td>\n",
       "      <td>2287.0</td>\n",
       "    </tr>\n",
       "    <tr>\n",
       "      <th>mean</th>\n",
       "      <td>748226.386095</td>\n",
       "      <td>84.490162</td>\n",
       "      <td>6986.205072</td>\n",
       "      <td>7.619121</td>\n",
       "      <td>8.293925</td>\n",
       "      <td>7.618029</td>\n",
       "      <td>6.383035</td>\n",
       "      <td>4.0</td>\n",
       "    </tr>\n",
       "    <tr>\n",
       "      <th>std</th>\n",
       "      <td>479939.420983</td>\n",
       "      <td>11.798978</td>\n",
       "      <td>153823.558813</td>\n",
       "      <td>7.673548</td>\n",
       "      <td>9.123954</td>\n",
       "      <td>7.676899</td>\n",
       "      <td>20.383425</td>\n",
       "      <td>0.0</td>\n",
       "    </tr>\n",
       "    <tr>\n",
       "      <th>min</th>\n",
       "      <td>440.0</td>\n",
       "      <td>24.0</td>\n",
       "      <td>10.0</td>\n",
       "      <td>0.0</td>\n",
       "      <td>0.0</td>\n",
       "      <td>0.0</td>\n",
       "      <td>0.0</td>\n",
       "      <td>4.0</td>\n",
       "    </tr>\n",
       "    <tr>\n",
       "      <th>25%</th>\n",
       "      <td>373710.0</td>\n",
       "      <td>79.0</td>\n",
       "      <td>25.0</td>\n",
       "      <td>2.99</td>\n",
       "      <td>3.99</td>\n",
       "      <td>2.99</td>\n",
       "      <td>0.0</td>\n",
       "      <td>4.0</td>\n",
       "    </tr>\n",
       "    <tr>\n",
       "      <th>50%</th>\n",
       "      <td>596890.0</td>\n",
       "      <td>87.0</td>\n",
       "      <td>66.0</td>\n",
       "      <td>5.99</td>\n",
       "      <td>6.99</td>\n",
       "      <td>5.99</td>\n",
       "      <td>0.0</td>\n",
       "      <td>4.0</td>\n",
       "    </tr>\n",
       "    <tr>\n",
       "      <th>75%</th>\n",
       "      <td>1024550.0</td>\n",
       "      <td>93.0</td>\n",
       "      <td>206.0</td>\n",
       "      <td>9.99</td>\n",
       "      <td>9.99</td>\n",
       "      <td>9.99</td>\n",
       "      <td>0.0</td>\n",
       "      <td>4.0</td>\n",
       "    </tr>\n",
       "    <tr>\n",
       "      <th>max</th>\n",
       "      <td>2246700.0</td>\n",
       "      <td>100.0</td>\n",
       "      <td>6870243.0</td>\n",
       "      <td>99.99</td>\n",
       "      <td>199.99</td>\n",
       "      <td>99.99</td>\n",
       "      <td>90.0</td>\n",
       "      <td>4.0</td>\n",
       "    </tr>\n",
       "  </tbody>\n",
       "</table>\n",
       "</div>"
      ],
      "text/plain": [
       "              app_id  positive_ratio   user_reviews  price_final  \\\n",
       "count         2287.0          2287.0         2287.0       2287.0   \n",
       "mean   748226.386095       84.490162    6986.205072     7.619121   \n",
       "std    479939.420983       11.798978  153823.558813     7.673548   \n",
       "min            440.0            24.0           10.0          0.0   \n",
       "25%         373710.0            79.0           25.0         2.99   \n",
       "50%         596890.0            87.0           66.0         5.99   \n",
       "75%        1024550.0            93.0          206.0         9.99   \n",
       "max        2246700.0           100.0      6870243.0        99.99   \n",
       "\n",
       "       price_original  price_discounted   discount  count_platforms  \n",
       "count          2283.0            2283.0     2287.0           2287.0  \n",
       "mean         8.293925          7.618029   6.383035              4.0  \n",
       "std          9.123954          7.676899  20.383425              0.0  \n",
       "min               0.0               0.0        0.0              4.0  \n",
       "25%              3.99              2.99        0.0              4.0  \n",
       "50%              6.99              5.99        0.0              4.0  \n",
       "75%              9.99              9.99        0.0              4.0  \n",
       "max            199.99             99.99       90.0              4.0  "
      ]
     },
     "execution_count": 50,
     "metadata": {},
     "output_type": "execute_result"
    }
   ],
   "source": [
    "df[df['all_platforms']].describe()"
   ]
  },
  {
   "cell_type": "code",
   "execution_count": null,
   "metadata": {},
   "outputs": [],
   "source": [
    "print(\"Описательная статистика для игр, поддерживающих все платформы\")"
   ]
  },
  {
   "cell_type": "code",
   "execution_count": 49,
   "metadata": {},
   "outputs": [
    {
     "data": {
      "text/plain": [
       "5.99"
      ]
     },
     "execution_count": 49,
     "metadata": {},
     "output_type": "execute_result"
    }
   ],
   "source": [
    "df['price_final'].median()"
   ]
  },
  {
   "cell_type": "code",
   "execution_count": null,
   "metadata": {},
   "outputs": [],
   "source": [
    "print(\"Средняя цена по рынку видеоигр равна 6 долларам\")"
   ]
  },
  {
   "cell_type": "code",
   "execution_count": 53,
   "metadata": {},
   "outputs": [
    {
     "data": {
      "text/plain": [
       "8.486990125473309"
      ]
     },
     "execution_count": 53,
     "metadata": {},
     "output_type": "execute_result"
    }
   ],
   "source": [
    "df['price_final'].mean()"
   ]
  },
  {
   "cell_type": "code",
   "execution_count": 54,
   "metadata": {},
   "outputs": [
    {
     "name": "stdout",
     "output_type": "stream",
     "text": [
      "Среднее арфиметиеское цены больше, чем его медиана. Возможно, это вызвано большим количеством дорогих игр\n"
     ]
    }
   ],
   "source": [
    "print(\"Среднее арфиметиеское цены больше, чем его медиана. Возможно, это вызвано большим количеством дорогих игр\")"
   ]
  },
  {
   "cell_type": "code",
   "execution_count": 56,
   "metadata": {
    "scrolled": true
   },
   "outputs": [
    {
     "data": {
      "text/plain": [
       "app_id              6257\n",
       "title               6257\n",
       "date_release        6257\n",
       "win                 6257\n",
       "mac                 6257\n",
       "linux               6257\n",
       "rating              6257\n",
       "positive_ratio      6257\n",
       "user_reviews        6257\n",
       "price_final         6257\n",
       "price_original      6256\n",
       "price_discounted    6256\n",
       "discount            6257\n",
       "steam_deck          6257\n",
       "all_platforms       6257\n",
       "count_platforms     6257\n",
       "dtype: int64"
      ]
     },
     "execution_count": 56,
     "metadata": {},
     "output_type": "execute_result"
    }
   ],
   "source": [
    "df[df['price_final'] > 5.99].count()"
   ]
  },
  {
   "cell_type": "code",
   "execution_count": 57,
   "metadata": {
    "scrolled": true
   },
   "outputs": [
    {
     "data": {
      "text/plain": [
       "app_id              7212\n",
       "title               7212\n",
       "date_release        7212\n",
       "win                 7212\n",
       "mac                 7212\n",
       "linux               7212\n",
       "rating              7212\n",
       "positive_ratio      7212\n",
       "user_reviews        7212\n",
       "price_final         7212\n",
       "price_original      7187\n",
       "price_discounted    7187\n",
       "discount            7212\n",
       "steam_deck          7212\n",
       "all_platforms       7212\n",
       "count_platforms     7212\n",
       "dtype: int64"
      ]
     },
     "execution_count": 57,
     "metadata": {},
     "output_type": "execute_result"
    }
   ],
   "source": [
    "df[df['price_final'] <= 5.99].count()"
   ]
  },
  {
   "cell_type": "code",
   "execution_count": 58,
   "metadata": {
    "scrolled": true
   },
   "outputs": [
    {
     "name": "stdout",
     "output_type": "stream",
     "text": [
      "Оказалось наоборот, игр меьнше медианы больше. Из чего можно сделать вывод - среднее арифметическое больше медианы потому, что самые дорогие игры сильно дороже среднего и именно за счет них среднее арифметическое повышается\n"
     ]
    }
   ],
   "source": [
    "print(\"Оказалось наоборот, игр меьнше медианы больше. Из чего можно сделать вывод - среднее арифметическое больше медианы потому, что самые дорогие игры сильно дороже среднего и именно за счет них среднее арифметическое повышается\")"
   ]
  },
  {
   "cell_type": "code",
   "execution_count": 60,
   "metadata": {
    "scrolled": true
   },
   "outputs": [
    {
     "data": {
      "text/plain": [
       "0    50\n",
       "Name: discount, dtype: Int64"
      ]
     },
     "execution_count": 60,
     "metadata": {},
     "output_type": "execute_result"
    }
   ],
   "source": [
    "df[df['discount'] > 0]['discount'].mode()"
   ]
  },
  {
   "cell_type": "code",
   "execution_count": 63,
   "metadata": {
    "scrolled": true
   },
   "outputs": [
    {
     "name": "stdout",
     "output_type": "stream",
     "text": [
      "Самая часто встречающееся зачение скидки помимо 0 - 50%\n"
     ]
    }
   ],
   "source": [
    "print(\"Самая часто встречающееся зачение скидки помимо 0 - 50%\")"
   ]
  },
  {
   "cell_type": "code",
   "execution_count": 64,
   "metadata": {
    "scrolled": true
   },
   "outputs": [
    {
     "data": {
      "text/plain": [
       "12.831448632713137"
      ]
     },
     "execution_count": 64,
     "metadata": {},
     "output_type": "execute_result"
    }
   ],
   "source": [
    "df['positive_ratio'].std()"
   ]
  },
  {
   "cell_type": "code",
   "execution_count": 65,
   "metadata": {
    "scrolled": true
   },
   "outputs": [
    {
     "name": "stdout",
     "output_type": "stream",
     "text": [
      "Среднеквадратичное отклонение процента пользовательских отзывов. Можно сделать вывод, что, как правило, отношение не сильно отличается от среднего\n"
     ]
    }
   ],
   "source": [
    "print(\"Среднеквадратичное отклонение процента пользовательских отзывов. Можно сделать вывод, что, как правило, отношение не сильно отличается от среднего\")"
   ]
  },
  {
   "cell_type": "code",
   "execution_count": 68,
   "metadata": {},
   "outputs": [
    {
     "data": {
      "text/plain": [
       "0.6300259317929522"
      ]
     },
     "execution_count": 68,
     "metadata": {},
     "output_type": "execute_result"
    }
   ],
   "source": [
    "df['count_platforms'].var()"
   ]
  },
  {
   "cell_type": "code",
   "execution_count": 69,
   "metadata": {},
   "outputs": [
    {
     "name": "stdout",
     "output_type": "stream",
     "text": [
      "Большинство производителей стараются поддерживать как можно больше платформ\n"
     ]
    }
   ],
   "source": [
    "print(\"Большинство производителей стараются поддерживать как можно больше платформ\")"
   ]
  },
  {
   "cell_type": "markdown",
   "metadata": {},
   "source": [
    "### 13"
   ]
  },
  {
   "cell_type": "code",
   "execution_count": 45,
   "metadata": {
    "scrolled": true
   },
   "outputs": [
    {
     "data": {
      "text/plain": [
       "<AxesSubplot:>"
      ]
     },
     "execution_count": 45,
     "metadata": {},
     "output_type": "execute_result"
    },
    {
     "data": {
      "image/png": "[encoded data removed]",
      "text/plain": [
       "<Figure size 640x480 with 2 Axes>"
      ]
     },
     "metadata": {},
     "output_type": "display_data"
    }
   ],
   "source": [
    "import seaborn as sns\n",
    "\n",
    "sns.heatmap(df.select_dtypes('number').corr())"
   ]
  },
  {
   "cell_type": "code",
   "execution_count": 46,
   "metadata": {},
   "outputs": [
    {
     "name": "stdout",
     "output_type": "stream",
     "text": [
      "Как ни странно, существует прямая зависимость между изначальной ценой, ценой со скидкой и финальной ценой. Это обуславливается тем, что скидку делают в процентах, а не в абсолютных единицах.\n"
     ]
    }
   ],
   "source": [
    "print(\"Как ни странно, существует прямая зависимость между изначальной ценой, ценой со скидкой и финальной ценой. Это обуславливается тем, что скидку делают в процентах, а не в абсолютных единицах.\")"
   ]
  },
  {
   "cell_type": "markdown",
   "metadata": {},
   "source": [
    "### 14"
   ]
  },
  {
   "cell_type": "code",
   "execution_count": null,
   "metadata": {},
   "outputs": [],
   "source": []
  },
  {
   "cell_type": "markdown",
   "metadata": {},
   "source": [
    "### 15"
   ]
  },
  {
   "cell_type": "code",
   "execution_count": null,
   "metadata": {},
   "outputs": [],
   "source": []
  }
 ],
 "metadata": {
  "kernelspec": {
   "display_name": "Python 3 (ipykernel)",
   "language": "python",
   "name": "python3"
  },
  "language_info": {
   "codemirror_mode": {
    "name": "ipython",
    "version": 3
   },
   "file_extension": ".py",
   "mimetype": "text/x-python",
   "name": "python",
   "nbconvert_exporter": "python",
   "pygments_lexer": "ipython3",
   "version": "3.10.9"
  }
 },
 "nbformat": 4,
 "nbformat_minor": 1
}
