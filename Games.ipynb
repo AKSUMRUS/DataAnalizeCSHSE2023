{
 "cells": [
  {
   "cell_type": "code",
   "execution_count": 12,
   "metadata": {
    "collapsed": true
   },
   "outputs": [],
   "source": [
    "import pandas as pd\n",
    "import matplotlib.pyplot as plt\n",
    "import numpy as np"
   ]
  },
  {
   "cell_type": "code",
   "execution_count": 13,
   "outputs": [
    {
     "data": {
      "text/plain": "        app_id                                              title  \\\n0        11190             Sherlock Holmes versus Jack the Ripper   \n1        20700                                          Starscape   \n2        94202              Jamestown: Gunpowder, Treason, & Plot   \n3       212673  Tom Clancy's Ghost Recon Future Soldier® - Khy...   \n4       222520                                Champions of Regnum   \n...        ...                                                ...   \n13464  1760250                                      Madden NFL 23   \n13465  1770640               Death's Gambit: Afterlife Soundtrack   \n13466  1943950                               Escape the Backrooms   \n13467  2124040                            Department of the Devil   \n13468  2233890                                        Prison Wars   \n\n      date_release    win    mac  linux           rating  positive_ratio  \\\n0       2009-12-23   True  False  False  Mostly Positive              78   \n1       2008-11-03   True  False  False    Very Positive              81   \n2       2011-11-10   True   True  False         Positive              90   \n3       2013-02-26   True  False  False            Mixed              60   \n4       2013-02-27   True   True   True            Mixed              67   \n...            ...    ...    ...    ...              ...             ...   \n13464   2022-08-18   True  False  False            Mixed              49   \n13465   2021-10-06  False  False  False         Positive             100   \n13466   2022-08-11   True  False  False    Very Positive              81   \n13467   2022-10-24   True  False  False         Positive             100   \n13468   2023-01-06   True  False  False         Positive              92   \n\n       user_reviews  price_final  price_original  price_discounted  discount  \\\n0               792         9.99            9.99              9.99       0.0   \n1                80         7.99            7.99              7.99       0.0   \n2                10         2.99            2.99              2.99       0.0   \n3                10         9.99            9.99              9.99       0.0   \n4              1098         0.00            0.00              0.00       0.0   \n...             ...          ...             ...               ...       ...   \n13464          2362        59.99           59.99             59.99       0.0   \n13465            10        12.99           12.99             12.99       0.0   \n13466          5726         9.99            9.99              9.99       0.0   \n13467            12         7.99            7.99              7.99       0.0   \n13468            14         1.99            1.99              1.99       0.0   \n\n       steam_deck  \n0            True  \n1            True  \n2            True  \n3            True  \n4            True  \n...           ...  \n13464        True  \n13465        True  \n13466        True  \n13467        True  \n13468        True  \n\n[13469 rows x 14 columns]",
      "text/html": "<div>\n<style scoped>\n    .dataframe tbody tr th:only-of-type {\n        vertical-align: middle;\n    }\n\n    .dataframe tbody tr th {\n        vertical-align: top;\n    }\n\n    .dataframe thead th {\n        text-align: right;\n    }\n</style>\n<table border=\"1\" class=\"dataframe\">\n  <thead>\n    <tr style=\"text-align: right;\">\n      <th></th>\n      <th>app_id</th>\n      <th>title</th>\n      <th>date_release</th>\n      <th>win</th>\n      <th>mac</th>\n      <th>linux</th>\n      <th>rating</th>\n      <th>positive_ratio</th>\n      <th>user_reviews</th>\n      <th>price_final</th>\n      <th>price_original</th>\n      <th>price_discounted</th>\n      <th>discount</th>\n      <th>steam_deck</th>\n    </tr>\n  </thead>\n  <tbody>\n    <tr>\n      <th>0</th>\n      <td>11190</td>\n      <td>Sherlock Holmes versus Jack the Ripper</td>\n      <td>2009-12-23</td>\n      <td>True</td>\n      <td>False</td>\n      <td>False</td>\n      <td>Mostly Positive</td>\n      <td>78</td>\n      <td>792</td>\n      <td>9.99</td>\n      <td>9.99</td>\n      <td>9.99</td>\n      <td>0.0</td>\n      <td>True</td>\n    </tr>\n    <tr>\n      <th>1</th>\n      <td>20700</td>\n      <td>Starscape</td>\n      <td>2008-11-03</td>\n      <td>True</td>\n      <td>False</td>\n      <td>False</td>\n      <td>Very Positive</td>\n      <td>81</td>\n      <td>80</td>\n      <td>7.99</td>\n      <td>7.99</td>\n      <td>7.99</td>\n      <td>0.0</td>\n      <td>True</td>\n    </tr>\n    <tr>\n      <th>2</th>\n      <td>94202</td>\n      <td>Jamestown: Gunpowder, Treason, &amp; Plot</td>\n      <td>2011-11-10</td>\n      <td>True</td>\n      <td>True</td>\n      <td>False</td>\n      <td>Positive</td>\n      <td>90</td>\n      <td>10</td>\n      <td>2.99</td>\n      <td>2.99</td>\n      <td>2.99</td>\n      <td>0.0</td>\n      <td>True</td>\n    </tr>\n    <tr>\n      <th>3</th>\n      <td>212673</td>\n      <td>Tom Clancy's Ghost Recon Future Soldier® - Khy...</td>\n      <td>2013-02-26</td>\n      <td>True</td>\n      <td>False</td>\n      <td>False</td>\n      <td>Mixed</td>\n      <td>60</td>\n      <td>10</td>\n      <td>9.99</td>\n      <td>9.99</td>\n      <td>9.99</td>\n      <td>0.0</td>\n      <td>True</td>\n    </tr>\n    <tr>\n      <th>4</th>\n      <td>222520</td>\n      <td>Champions of Regnum</td>\n      <td>2013-02-27</td>\n      <td>True</td>\n      <td>True</td>\n      <td>True</td>\n      <td>Mixed</td>\n      <td>67</td>\n      <td>1098</td>\n      <td>0.00</td>\n      <td>0.00</td>\n      <td>0.00</td>\n      <td>0.0</td>\n      <td>True</td>\n    </tr>\n    <tr>\n      <th>...</th>\n      <td>...</td>\n      <td>...</td>\n      <td>...</td>\n      <td>...</td>\n      <td>...</td>\n      <td>...</td>\n      <td>...</td>\n      <td>...</td>\n      <td>...</td>\n      <td>...</td>\n      <td>...</td>\n      <td>...</td>\n      <td>...</td>\n      <td>...</td>\n    </tr>\n    <tr>\n      <th>13464</th>\n      <td>1760250</td>\n      <td>Madden NFL 23</td>\n      <td>2022-08-18</td>\n      <td>True</td>\n      <td>False</td>\n      <td>False</td>\n      <td>Mixed</td>\n      <td>49</td>\n      <td>2362</td>\n      <td>59.99</td>\n      <td>59.99</td>\n      <td>59.99</td>\n      <td>0.0</td>\n      <td>True</td>\n    </tr>\n    <tr>\n      <th>13465</th>\n      <td>1770640</td>\n      <td>Death's Gambit: Afterlife Soundtrack</td>\n      <td>2021-10-06</td>\n      <td>False</td>\n      <td>False</td>\n      <td>False</td>\n      <td>Positive</td>\n      <td>100</td>\n      <td>10</td>\n      <td>12.99</td>\n      <td>12.99</td>\n      <td>12.99</td>\n      <td>0.0</td>\n      <td>True</td>\n    </tr>\n    <tr>\n      <th>13466</th>\n      <td>1943950</td>\n      <td>Escape the Backrooms</td>\n      <td>2022-08-11</td>\n      <td>True</td>\n      <td>False</td>\n      <td>False</td>\n      <td>Very Positive</td>\n      <td>81</td>\n      <td>5726</td>\n      <td>9.99</td>\n      <td>9.99</td>\n      <td>9.99</td>\n      <td>0.0</td>\n      <td>True</td>\n    </tr>\n    <tr>\n      <th>13467</th>\n      <td>2124040</td>\n      <td>Department of the Devil</td>\n      <td>2022-10-24</td>\n      <td>True</td>\n      <td>False</td>\n      <td>False</td>\n      <td>Positive</td>\n      <td>100</td>\n      <td>12</td>\n      <td>7.99</td>\n      <td>7.99</td>\n      <td>7.99</td>\n      <td>0.0</td>\n      <td>True</td>\n    </tr>\n    <tr>\n      <th>13468</th>\n      <td>2233890</td>\n      <td>Prison Wars</td>\n      <td>2023-01-06</td>\n      <td>True</td>\n      <td>False</td>\n      <td>False</td>\n      <td>Positive</td>\n      <td>92</td>\n      <td>14</td>\n      <td>1.99</td>\n      <td>1.99</td>\n      <td>1.99</td>\n      <td>0.0</td>\n      <td>True</td>\n    </tr>\n  </tbody>\n</table>\n<p>13469 rows × 14 columns</p>\n</div>"
     },
     "metadata": {},
     "output_type": "display_data"
    }
   ],
   "source": [
    "df = pd.read_csv('games.csv', on_bad_lines='skip')\n",
    "\n",
    "display(df)"
   ],
   "metadata": {
    "collapsed": false
   }
  },
  {
   "cell_type": "markdown",
   "source": [
    "### 2"
   ],
   "metadata": {
    "collapsed": false
   }
  },
  {
   "cell_type": "code",
   "execution_count": 14,
   "outputs": [
    {
     "name": "stdout",
     "output_type": "stream",
     "text": [
      "В датасете 13469 строк и 14 столбцов\n"
     ]
    }
   ],
   "source": [
    "shape = df.shape\n",
    "print(f\"В датасете {shape[0]} строк и {shape[1]} столбцов\")"
   ],
   "metadata": {
    "collapsed": false
   }
  },
  {
   "cell_type": "code",
   "execution_count": 15,
   "outputs": [
    {
     "name": "stdout",
     "output_type": "stream",
     "text": [
      "<class 'pandas.core.frame.DataFrame'>\n",
      "RangeIndex: 13469 entries, 0 to 13468\n",
      "Data columns (total 14 columns):\n",
      " #   Column            Non-Null Count  Dtype  \n",
      "---  ------            --------------  -----  \n",
      " 0   app_id            13469 non-null  int64  \n",
      " 1   title             13469 non-null  object \n",
      " 2   date_release      13469 non-null  object \n",
      " 3   win               13469 non-null  bool   \n",
      " 4   mac               13469 non-null  bool   \n",
      " 5   linux             13469 non-null  bool   \n",
      " 6   rating            13469 non-null  object \n",
      " 7   positive_ratio    13469 non-null  int64  \n",
      " 8   user_reviews      13469 non-null  int64  \n",
      " 9   price_final       13469 non-null  float64\n",
      " 10  price_original    13443 non-null  float64\n",
      " 11  price_discounted  13443 non-null  float64\n",
      " 12  discount          13469 non-null  float64\n",
      " 13  steam_deck        13469 non-null  bool   \n",
      "dtypes: bool(4), float64(4), int64(3), object(3)\n",
      "memory usage: 1.1+ MB\n"
     ]
    },
    {
     "data": {
      "text/plain": "None"
     },
     "metadata": {},
     "output_type": "display_data"
    }
   ],
   "source": [
    "display(df.info())"
   ],
   "metadata": {
    "collapsed": false
   }
  },
  {
   "cell_type": "code",
   "execution_count": 16,
   "outputs": [],
   "source": [
    "dataset_statistics = [\n",
    "    {'name': 'app_id',\n",
    "     'what': 'айди игры',\n",
    "     'type_variable': 'метрическая',\n",
    "     'type_data': 'integer',\n",
    "     'empty_count': 13469\n",
    "     },\n",
    "    {'name': 'title',\n",
    "     'what': 'название игры',\n",
    "     'type_variable': 'категориальная-номинальная',\n",
    "     'type_data': 'string',\n",
    "     'empty_count': 13469\n",
    "     },\n",
    "    {'name': 'date_release',\n",
    "     'what': 'дату релиза игры',\n",
    "     'type_variable': 'метрическая',\n",
    "     'type_data': 'string',\n",
    "     'empty_count': 13469\n",
    "     },\n",
    "    {'name': 'win',\n",
    "     'what': 'поддержку операционной системы Windows',\n",
    "     'type_variable': 'категориальная-бинарная',\n",
    "     'type_data': 'bool',\n",
    "     'empty_count': 13469\n",
    "     },\n",
    "    {'name': 'mac',\n",
    "     'what': 'поддержку операционной системы MacOS',\n",
    "     'type_variable': 'категориальная-бинарная',\n",
    "     'type_data': 'bool',\n",
    "     'empty_count': 13469\n",
    "     },\n",
    "    {'name': 'linux',\n",
    "     'what': 'поддержку операционной системы Linus',\n",
    "     'type_variable': 'категориальная-бинарная',\n",
    "     'type_data': 'bool',\n",
    "     'empty_count': 13469\n",
    "     },\n",
    "    {'name': 'rating',\n",
    "     'what': 'категорию рейтинга продукта',\n",
    "     'type_variable': 'категориальная-порядковая',\n",
    "     'type_data': 'string',\n",
    "     'empty_count': 13469\n",
    "     },\n",
    "    {'name': 'positive_ratio',\n",
    "     'what': 'долю позитивных отзывов',\n",
    "     'type_variable': 'метрическая',\n",
    "     'type_data': 'integer',\n",
    "     'empty_count': 13469\n",
    "     },\n",
    "    {'name': 'user_reviews',\n",
    "     'what': 'количество оставленных отзывов',\n",
    "     'type_variable': 'метрическая',\n",
    "     'type_data': 'integer',\n",
    "     'empty_count': 13469\n",
    "     },\n",
    "    {'name': 'price_final',\n",
    "     'what': 'окончательную цену в долларах США $',\n",
    "     'type_variable': 'метрическая',\n",
    "     'type_data': 'float',\n",
    "     'empty_count': 13469\n",
    "     },\n",
    "    {'name': 'price_original',\n",
    "     'what': 'цену в долларах США $ до скидки',\n",
    "     'type_variable': 'метрическая',\n",
    "     'type_data': 'float',\n",
    "     'empty_count': 13443\n",
    "     },\n",
    "    {'name': 'price_discounted',\n",
    "     'what': 'цену в долларах США $ после скидки',\n",
    "     'type_variable': 'метрическая',\n",
    "     'type_data': 'float',\n",
    "     'empty_count': 13443\n",
    "     },\n",
    "    {'name': 'discount',\n",
    "     'what': 'значение скидки в процентах',\n",
    "     'type_variable': 'метрическая',\n",
    "     'type_data': 'float',\n",
    "     'empty_count': 13469\n",
    "     },\n",
    "    {'name': 'steam_deck',\n",
    "     'what': 'совместимость с Steam Deck',\n",
    "     'type_variable': 'категориальная-бинарная',\n",
    "     'type_data': 'bool',\n",
    "     'empty_count': 13469\n",
    "     },\n",
    "    ]"
   ],
   "metadata": {
    "collapsed": false
   }
  },
  {
   "cell_type": "code",
   "execution_count": 17,
   "outputs": [
    {
     "name": "stdout",
     "output_type": "stream",
     "text": [
      "app_id: задаёт айди игры, относится к типу переменной метрическая, относится к типу данных integer и имеет 0 пустых значений\n",
      "title: задаёт название игры, относится к типу переменной категориальная-номинальная, относится к типу данных string и имеет 0 пустых значений\n",
      "date_release: задаёт дату релиза игры, относится к типу переменной метрическая, относится к типу данных string и имеет 0 пустых значений\n",
      "win: задаёт поддержку операционной системы Windows, относится к типу переменной категориальная-бинарная, относится к типу данных bool и имеет 0 пустых значений\n",
      "mac: задаёт поддержку операционной системы MacOS, относится к типу переменной категориальная-бинарная, относится к типу данных bool и имеет 0 пустых значений\n",
      "linux: задаёт поддержку операционной системы Linus, относится к типу переменной категориальная-бинарная, относится к типу данных bool и имеет 0 пустых значений\n",
      "rating: задаёт категорию рейтинга продукта, относится к типу переменной категориальная-порядковая, относится к типу данных string и имеет 0 пустых значений\n",
      "positive_ratio: задаёт долю позитивных отзывов, относится к типу переменной метрическая, относится к типу данных integer и имеет 0 пустых значений\n",
      "user_reviews: задаёт количество оставленных отзывов, относится к типу переменной метрическая, относится к типу данных integer и имеет 0 пустых значений\n",
      "price_final: задаёт окончательную цену в долларах США $, относится к типу переменной метрическая, относится к типу данных float и имеет 0 пустых значений\n",
      "price_original: задаёт цену в долларах США $ до скидки, относится к типу переменной метрическая, относится к типу данных float и имеет 26 пустых значений\n",
      "price_discounted: задаёт цену в долларах США $ после скидки, относится к типу переменной метрическая, относится к типу данных float и имеет 26 пустых значений\n",
      "discount: задаёт значение скидки в процентах, относится к типу переменной метрическая, относится к типу данных float и имеет 0 пустых значений\n",
      "steam_deck: задаёт совместимость с Steam Deck, относится к типу переменной категориальная-бинарная, относится к типу данных bool и имеет 0 пустых значений\n"
     ]
    }
   ],
   "source": [
    "for item in dataset_statistics:\n",
    "    print(\n",
    "        f'{item[\"name\"]}: задаёт {item[\"what\"]}, относится к типу переменной {item[\"type_variable\"]}, относится к типу данных {item[\"type_data\"]} и имеет {df.shape[0] - item[\"empty_count\"]} пустых значений'\n",
    "    )"
   ],
   "metadata": {
    "collapsed": false
   }
  },
  {
   "cell_type": "markdown",
   "source": [
    "### 3"
   ],
   "metadata": {
    "collapsed": false
   }
  },
  {
   "cell_type": "code",
   "execution_count": 18,
   "outputs": [
    {
     "name": "stdout",
     "output_type": "stream",
     "text": [
      "<class 'pandas.core.frame.DataFrame'>\n",
      "RangeIndex: 13469 entries, 0 to 13468\n",
      "Data columns (total 14 columns):\n",
      " #   Column            Non-Null Count  Dtype  \n",
      "---  ------            --------------  -----  \n",
      " 0   app_id            13469 non-null  Int64  \n",
      " 1   title             13469 non-null  string \n",
      " 2   date_release      13469 non-null  string \n",
      " 3   win               13469 non-null  boolean\n",
      " 4   mac               13469 non-null  boolean\n",
      " 5   linux             13469 non-null  boolean\n",
      " 6   rating            13469 non-null  string \n",
      " 7   positive_ratio    13469 non-null  Int64  \n",
      " 8   user_reviews      13469 non-null  Int64  \n",
      " 9   price_final       13469 non-null  Float64\n",
      " 10  price_original    13443 non-null  Float64\n",
      " 11  price_discounted  13443 non-null  Float64\n",
      " 12  discount          13469 non-null  Int64  \n",
      " 13  steam_deck        13469 non-null  boolean\n",
      "dtypes: Float64(3), Int64(4), boolean(4), string(3)\n",
      "memory usage: 1.2 MB\n"
     ]
    },
    {
     "data": {
      "text/plain": "None"
     },
     "metadata": {},
     "output_type": "display_data"
    }
   ],
   "source": [
    "df = df.convert_dtypes()\n",
    "display(df.info())"
   ],
   "metadata": {
    "collapsed": false
   }
  },
  {
   "cell_type": "markdown",
   "source": [
    "### 4"
   ],
   "metadata": {
    "collapsed": false
   }
  },
  {
   "cell_type": "markdown",
   "source": [
    "Добавим столбец задающий поддрежку игрой всех операционных систем и Steam Deck"
   ],
   "metadata": {
    "collapsed": false
   }
  },
  {
   "cell_type": "code",
   "execution_count": 19,
   "outputs": [
    {
     "data": {
      "text/plain": "0        False\n1        False\n2        False\n3        False\n4         True\n         ...  \n13464    False\n13465    False\n13466    False\n13467    False\n13468    False\nName: all_platforms, Length: 13469, dtype: boolean"
     },
     "metadata": {},
     "output_type": "display_data"
    }
   ],
   "source": [
    "df['all_platforms'] = df['win'] & df['mac'] & df['linux'] & df['steam_deck']\n",
    "\n",
    "display(df['all_platforms'])"
   ],
   "metadata": {
    "collapsed": false
   }
  },
  {
   "cell_type": "markdown",
   "source": [
    "### 5"
   ],
   "metadata": {
    "collapsed": false
   }
  },
  {
   "cell_type": "code",
   "execution_count": 20,
   "outputs": [
    {
     "data": {
      "text/plain": "        app_id                                              title  \\\n0        11190             Sherlock Holmes versus Jack the Ripper   \n1        20700                                          Starscape   \n2        94202              Jamestown: Gunpowder, Treason, & Plot   \n3       212673  Tom Clancy's Ghost Recon Future Soldier® - Khy...   \n4       222520                                Champions of Regnum   \n...        ...                                                ...   \n13464  1760250                                      Madden NFL 23   \n13465  1770640               Death's Gambit: Afterlife Soundtrack   \n13466  1943950                               Escape the Backrooms   \n13467  2124040                            Department of the Devil   \n13468  2233890                                        Prison Wars   \n\n      date_release    win    mac  linux           rating  positive_ratio  \\\n0       2009-12-23   True  False  False  Mostly Positive              78   \n1       2008-11-03   True  False  False    Very Positive              81   \n2       2011-11-10   True   True  False         Positive              90   \n3       2013-02-26   True  False  False            Mixed              60   \n4       2013-02-27   True   True   True            Mixed              67   \n...            ...    ...    ...    ...              ...             ...   \n13464   2022-08-18   True  False  False            Mixed              49   \n13465   2021-10-06  False  False  False         Positive             100   \n13466   2022-08-11   True  False  False    Very Positive              81   \n13467   2022-10-24   True  False  False         Positive             100   \n13468   2023-01-06   True  False  False         Positive              92   \n\n       user_reviews price_final  price_original  price_discounted  discount  \\\n0               792     Average            9.99              9.99         0   \n1                80     Average            7.99              7.99         0   \n2                10     Average            2.99              2.99         0   \n3                10     Average            9.99              9.99         0   \n4              1098       Cheap             0.0               0.0         0   \n...             ...         ...             ...               ...       ...   \n13464          2362   Expensive           59.99             59.99         0   \n13465            10   Expensive           12.99             12.99         0   \n13466          5726     Average            9.99              9.99         0   \n13467            12     Average            7.99              7.99         0   \n13468            14       Cheap            1.99              1.99         0   \n\n       steam_deck  all_platforms  \n0            True          False  \n1            True          False  \n2            True          False  \n3            True          False  \n4            True           True  \n...           ...            ...  \n13464        True          False  \n13465        True          False  \n13466        True          False  \n13467        True          False  \n13468        True          False  \n\n[13469 rows x 15 columns]",
      "text/html": "<div>\n<style scoped>\n    .dataframe tbody tr th:only-of-type {\n        vertical-align: middle;\n    }\n\n    .dataframe tbody tr th {\n        vertical-align: top;\n    }\n\n    .dataframe thead th {\n        text-align: right;\n    }\n</style>\n<table border=\"1\" class=\"dataframe\">\n  <thead>\n    <tr style=\"text-align: right;\">\n      <th></th>\n      <th>app_id</th>\n      <th>title</th>\n      <th>date_release</th>\n      <th>win</th>\n      <th>mac</th>\n      <th>linux</th>\n      <th>rating</th>\n      <th>positive_ratio</th>\n      <th>user_reviews</th>\n      <th>price_final</th>\n      <th>price_original</th>\n      <th>price_discounted</th>\n      <th>discount</th>\n      <th>steam_deck</th>\n      <th>all_platforms</th>\n    </tr>\n  </thead>\n  <tbody>\n    <tr>\n      <th>0</th>\n      <td>11190</td>\n      <td>Sherlock Holmes versus Jack the Ripper</td>\n      <td>2009-12-23</td>\n      <td>True</td>\n      <td>False</td>\n      <td>False</td>\n      <td>Mostly Positive</td>\n      <td>78</td>\n      <td>792</td>\n      <td>Average</td>\n      <td>9.99</td>\n      <td>9.99</td>\n      <td>0</td>\n      <td>True</td>\n      <td>False</td>\n    </tr>\n    <tr>\n      <th>1</th>\n      <td>20700</td>\n      <td>Starscape</td>\n      <td>2008-11-03</td>\n      <td>True</td>\n      <td>False</td>\n      <td>False</td>\n      <td>Very Positive</td>\n      <td>81</td>\n      <td>80</td>\n      <td>Average</td>\n      <td>7.99</td>\n      <td>7.99</td>\n      <td>0</td>\n      <td>True</td>\n      <td>False</td>\n    </tr>\n    <tr>\n      <th>2</th>\n      <td>94202</td>\n      <td>Jamestown: Gunpowder, Treason, &amp; Plot</td>\n      <td>2011-11-10</td>\n      <td>True</td>\n      <td>True</td>\n      <td>False</td>\n      <td>Positive</td>\n      <td>90</td>\n      <td>10</td>\n      <td>Average</td>\n      <td>2.99</td>\n      <td>2.99</td>\n      <td>0</td>\n      <td>True</td>\n      <td>False</td>\n    </tr>\n    <tr>\n      <th>3</th>\n      <td>212673</td>\n      <td>Tom Clancy's Ghost Recon Future Soldier® - Khy...</td>\n      <td>2013-02-26</td>\n      <td>True</td>\n      <td>False</td>\n      <td>False</td>\n      <td>Mixed</td>\n      <td>60</td>\n      <td>10</td>\n      <td>Average</td>\n      <td>9.99</td>\n      <td>9.99</td>\n      <td>0</td>\n      <td>True</td>\n      <td>False</td>\n    </tr>\n    <tr>\n      <th>4</th>\n      <td>222520</td>\n      <td>Champions of Regnum</td>\n      <td>2013-02-27</td>\n      <td>True</td>\n      <td>True</td>\n      <td>True</td>\n      <td>Mixed</td>\n      <td>67</td>\n      <td>1098</td>\n      <td>Cheap</td>\n      <td>0.0</td>\n      <td>0.0</td>\n      <td>0</td>\n      <td>True</td>\n      <td>True</td>\n    </tr>\n    <tr>\n      <th>...</th>\n      <td>...</td>\n      <td>...</td>\n      <td>...</td>\n      <td>...</td>\n      <td>...</td>\n      <td>...</td>\n      <td>...</td>\n      <td>...</td>\n      <td>...</td>\n      <td>...</td>\n      <td>...</td>\n      <td>...</td>\n      <td>...</td>\n      <td>...</td>\n      <td>...</td>\n    </tr>\n    <tr>\n      <th>13464</th>\n      <td>1760250</td>\n      <td>Madden NFL 23</td>\n      <td>2022-08-18</td>\n      <td>True</td>\n      <td>False</td>\n      <td>False</td>\n      <td>Mixed</td>\n      <td>49</td>\n      <td>2362</td>\n      <td>Expensive</td>\n      <td>59.99</td>\n      <td>59.99</td>\n      <td>0</td>\n      <td>True</td>\n      <td>False</td>\n    </tr>\n    <tr>\n      <th>13465</th>\n      <td>1770640</td>\n      <td>Death's Gambit: Afterlife Soundtrack</td>\n      <td>2021-10-06</td>\n      <td>False</td>\n      <td>False</td>\n      <td>False</td>\n      <td>Positive</td>\n      <td>100</td>\n      <td>10</td>\n      <td>Expensive</td>\n      <td>12.99</td>\n      <td>12.99</td>\n      <td>0</td>\n      <td>True</td>\n      <td>False</td>\n    </tr>\n    <tr>\n      <th>13466</th>\n      <td>1943950</td>\n      <td>Escape the Backrooms</td>\n      <td>2022-08-11</td>\n      <td>True</td>\n      <td>False</td>\n      <td>False</td>\n      <td>Very Positive</td>\n      <td>81</td>\n      <td>5726</td>\n      <td>Average</td>\n      <td>9.99</td>\n      <td>9.99</td>\n      <td>0</td>\n      <td>True</td>\n      <td>False</td>\n    </tr>\n    <tr>\n      <th>13467</th>\n      <td>2124040</td>\n      <td>Department of the Devil</td>\n      <td>2022-10-24</td>\n      <td>True</td>\n      <td>False</td>\n      <td>False</td>\n      <td>Positive</td>\n      <td>100</td>\n      <td>12</td>\n      <td>Average</td>\n      <td>7.99</td>\n      <td>7.99</td>\n      <td>0</td>\n      <td>True</td>\n      <td>False</td>\n    </tr>\n    <tr>\n      <th>13468</th>\n      <td>2233890</td>\n      <td>Prison Wars</td>\n      <td>2023-01-06</td>\n      <td>True</td>\n      <td>False</td>\n      <td>False</td>\n      <td>Positive</td>\n      <td>92</td>\n      <td>14</td>\n      <td>Cheap</td>\n      <td>1.99</td>\n      <td>1.99</td>\n      <td>0</td>\n      <td>True</td>\n      <td>False</td>\n    </tr>\n  </tbody>\n</table>\n<p>13469 rows × 15 columns</p>\n</div>"
     },
     "metadata": {},
     "output_type": "display_data"
    },
    {
     "name": "stdout",
     "output_type": "stream",
     "text": [
      "Примем 25% самых недорогих чисел за дешёвые игры, а 20% самых недешёвых за дорогие, оставшиеся 55% игр имеют среднюю цену\n"
     ]
    }
   ],
   "source": [
    "cheap = df['price_final'].quantile(0.25)\n",
    "expensive = df['price_final'].quantile(0.80)\n",
    "def f(x):\n",
    "    if x < cheap:\n",
    "        return 'Cheap'\n",
    "    elif x < expensive:\n",
    "        return 'Average'\n",
    "    else:\n",
    "        return 'Expensive'\n",
    "\n",
    "df2 = df.copy()\n",
    "df2['price_final'] = df2['price_final'].apply(lambda x : f(x))\n",
    "display(df2)\n",
    "print(\"Примем 25% самых недорогих чисел за дешёвые игры, а 20% самых недешёвых за дорогие, оставшиеся 55% игр имеют среднюю цену\")"
   ],
   "metadata": {
    "collapsed": false
   }
  },
  {
   "cell_type": "markdown",
   "source": [
    "### 6"
   ],
   "metadata": {
    "collapsed": false
   }
  },
  {
   "cell_type": "code",
   "execution_count": 21,
   "outputs": [
    {
     "data": {
      "text/plain": "                                                                 10  \\\napp_id                                                       354680   \ntitle             Adventures of Bertram Fiddle 1: A Dreadly Busi...   \ndate_release                                             2015-04-02   \nwin                                                            True   \nmac                                                            True   \nlinux                                                         False   \nrating                                                Very Positive   \npositive_ratio                                                   87   \nuser_reviews                                                    378   \nprice_final                                                    4.99   \nprice_original                                                 4.99   \nprice_discounted                                               4.99   \ndiscount                                                          0   \nsteam_deck                                                     True   \nall_platforms                                                 False   \n\n                                                     11  \\\napp_id                                           364329   \ntitle             FSX: Steam Edition - WACO YMF5 Add-On   \ndate_release                                 2015-07-14   \nwin                                                True   \nmac                                               False   \nlinux                                             False   \nrating                                         Positive   \npositive_ratio                                       87   \nuser_reviews                                         16   \nprice_final                                       19.99   \nprice_original                                    19.99   \nprice_discounted                                  19.99   \ndiscount                                              0   \nsteam_deck                                         True   \nall_platforms                                     False   \n\n                                              12             13  \\\napp_id                                    385870         396350   \ntitle             Monstrum - Original Soundtrack        Bleed 2   \ndate_release                          2015-07-17     2017-02-08   \nwin                                         True           True   \nmac                                         True           True   \nlinux                                       True           True   \nrating                                  Positive  Very Positive   \npositive_ratio                                92             96   \nuser_reviews                                  14            454   \nprice_final                                 4.99           9.99   \nprice_original                              4.99           9.99   \nprice_discounted                            4.99           9.99   \ndiscount                                       0              0   \nsteam_deck                                  True           True   \nall_platforms                               True           True   \n\n                               14  \napp_id                     407980  \ntitle              Sakura Beach 2  \ndate_release           2015-11-06  \nwin                          True  \nmac                         False  \nlinux                        True  \nrating            Mostly Positive  \npositive_ratio                 79  \nuser_reviews                  248  \nprice_final                  9.99  \nprice_original               9.99  \nprice_discounted             9.99  \ndiscount                        0  \nsteam_deck                   True  \nall_platforms               False  ",
      "text/html": "<div>\n<style scoped>\n    .dataframe tbody tr th:only-of-type {\n        vertical-align: middle;\n    }\n\n    .dataframe tbody tr th {\n        vertical-align: top;\n    }\n\n    .dataframe thead th {\n        text-align: right;\n    }\n</style>\n<table border=\"1\" class=\"dataframe\">\n  <thead>\n    <tr style=\"text-align: right;\">\n      <th></th>\n      <th>10</th>\n      <th>11</th>\n      <th>12</th>\n      <th>13</th>\n      <th>14</th>\n    </tr>\n  </thead>\n  <tbody>\n    <tr>\n      <th>app_id</th>\n      <td>354680</td>\n      <td>364329</td>\n      <td>385870</td>\n      <td>396350</td>\n      <td>407980</td>\n    </tr>\n    <tr>\n      <th>title</th>\n      <td>Adventures of Bertram Fiddle 1: A Dreadly Busi...</td>\n      <td>FSX: Steam Edition - WACO YMF5 Add-On</td>\n      <td>Monstrum - Original Soundtrack</td>\n      <td>Bleed 2</td>\n      <td>Sakura Beach 2</td>\n    </tr>\n    <tr>\n      <th>date_release</th>\n      <td>2015-04-02</td>\n      <td>2015-07-14</td>\n      <td>2015-07-17</td>\n      <td>2017-02-08</td>\n      <td>2015-11-06</td>\n    </tr>\n    <tr>\n      <th>win</th>\n      <td>True</td>\n      <td>True</td>\n      <td>True</td>\n      <td>True</td>\n      <td>True</td>\n    </tr>\n    <tr>\n      <th>mac</th>\n      <td>True</td>\n      <td>False</td>\n      <td>True</td>\n      <td>True</td>\n      <td>False</td>\n    </tr>\n    <tr>\n      <th>linux</th>\n      <td>False</td>\n      <td>False</td>\n      <td>True</td>\n      <td>True</td>\n      <td>True</td>\n    </tr>\n    <tr>\n      <th>rating</th>\n      <td>Very Positive</td>\n      <td>Positive</td>\n      <td>Positive</td>\n      <td>Very Positive</td>\n      <td>Mostly Positive</td>\n    </tr>\n    <tr>\n      <th>positive_ratio</th>\n      <td>87</td>\n      <td>87</td>\n      <td>92</td>\n      <td>96</td>\n      <td>79</td>\n    </tr>\n    <tr>\n      <th>user_reviews</th>\n      <td>378</td>\n      <td>16</td>\n      <td>14</td>\n      <td>454</td>\n      <td>248</td>\n    </tr>\n    <tr>\n      <th>price_final</th>\n      <td>4.99</td>\n      <td>19.99</td>\n      <td>4.99</td>\n      <td>9.99</td>\n      <td>9.99</td>\n    </tr>\n    <tr>\n      <th>price_original</th>\n      <td>4.99</td>\n      <td>19.99</td>\n      <td>4.99</td>\n      <td>9.99</td>\n      <td>9.99</td>\n    </tr>\n    <tr>\n      <th>price_discounted</th>\n      <td>4.99</td>\n      <td>19.99</td>\n      <td>4.99</td>\n      <td>9.99</td>\n      <td>9.99</td>\n    </tr>\n    <tr>\n      <th>discount</th>\n      <td>0</td>\n      <td>0</td>\n      <td>0</td>\n      <td>0</td>\n      <td>0</td>\n    </tr>\n    <tr>\n      <th>steam_deck</th>\n      <td>True</td>\n      <td>True</td>\n      <td>True</td>\n      <td>True</td>\n      <td>True</td>\n    </tr>\n    <tr>\n      <th>all_platforms</th>\n      <td>False</td>\n      <td>False</td>\n      <td>True</td>\n      <td>True</td>\n      <td>False</td>\n    </tr>\n  </tbody>\n</table>\n</div>"
     },
     "metadata": {},
     "output_type": "display_data"
    }
   ],
   "source": [
    "sub = df[10:15]\n",
    "display(sub.T)"
   ],
   "metadata": {
    "collapsed": false
   }
  },
  {
   "cell_type": "markdown",
   "source": [
    "### 7"
   ],
   "metadata": {
    "collapsed": false
   }
  },
  {
   "cell_type": "code",
   "execution_count": 22,
   "outputs": [
    {
     "data": {
      "text/plain": "        app_id                                              title  \\\n449     992740                                       祈風 Inorikaze   \n11209  1176050                       秘封旅行 ~ Secret Sealing Travel   \n1464   1290220                            Elasto Mania Remastered   \n9354   1082920                         missed messages - Fan Pack   \n9381   2205290                    流光易逝的夏末 - Fleeting Summer's End   \n876     862710                         Kid,napper - Extra Content   \n12975  1796170                  Bunny e-Shop  The Art of the Game   \n129    1727830  OPUS: Echo of Starsong Original Soundtrack -Be...   \n13091  1028530  Paper Memories - Comics from Finding Paradise ...   \n8957   1229060                                Dungeon and Puzzles   \n12131  1029650                                יום פתוח (Open Day)   \n5902   1925870                                THE ART OF FAR AWAY   \n9280   1204930                        Hop Step Sing! Astral Piece   \n3272   1857650                                           DEEP FOG   \n5660    762930              Supipara - Chapter 2 Spring Has Come!   \n1790   1424630                                       CosmoDreamer   \n9367   1593020  Milk inside a bag of milk inside a bag of milk...   \n11680  1395730       There Is No Game: Wrong Dimension Soundtrack   \n5530   1242754  Monster Hunter World: Iceborne - Pendant: Stro...   \n5898   1805200                           Shirone: the Dragon Girl   \n\n      date_release    win    mac  linux         rating  positive_ratio  \\\n449     2019-02-13   True  False  False  Very Positive             100   \n11209   2020-10-17   True  False  False  Very Positive             100   \n1464    2020-05-25   True  False  False  Very Positive             100   \n9354    2019-05-28   True   True   True  Very Positive             100   \n9381    2023-01-06   True  False  False  Very Positive             100   \n876     2018-05-31   True   True   True  Very Positive             100   \n12975   2021-12-16   True   True   True  Very Positive             100   \n129     2021-08-31  False  False  False  Very Positive             100   \n13091   2019-03-08   True   True   True  Very Positive             100   \n8957    2021-01-14   True   True  False  Very Positive             100   \n12131   2022-06-22   True  False  False  Very Positive             100   \n5902    2022-03-17   True  False  False  Very Positive             100   \n9280    2019-12-12   True  False  False  Very Positive             100   \n3272    2022-04-29   True  False  False  Very Positive             100   \n5660    2018-04-12   True  False  False  Very Positive             100   \n1790    2020-10-02   True  False  False  Very Positive             100   \n9367    2021-04-16  False  False  False  Very Positive             100   \n11680   2020-08-20  False  False  False  Very Positive             100   \n5530    2020-04-08   True  False  False  Very Positive             100   \n5898    2022-03-09   True  False  False  Very Positive             100   \n\n       user_reviews  price_final  price_original  price_discounted  discount  \\\n449             305        10.99           10.99             10.99         0   \n11209           183         4.49            5.99              4.49        25   \n1464            171         9.99            9.99              9.99         0   \n9354            124         4.99            4.99              4.99         0   \n9381            121         2.99            2.99              2.99         0   \n876             117         0.99            0.99              0.99         0   \n12975           106         2.33            2.99              2.33        22   \n129             100         7.99            7.99              7.99         0   \n13091            90         1.99            1.99              1.99         0   \n8957             89         7.99            7.99              7.99         0   \n12131            89        14.99           14.99             14.99         0   \n5902             87         7.99            7.99              7.99         0   \n9280             80         9.99            9.99              9.99         0   \n3272             80        14.99           14.99             14.99         0   \n5660             79        14.99           14.99             14.99         0   \n1790             78         7.99            7.99              7.99         0   \n9367             77         0.99            0.99              0.99         0   \n11680            76         4.99            4.99              4.99         0   \n5530             75         0.59            0.99              0.59        40   \n5898             74        14.99           14.99             14.99         0   \n\n       steam_deck  all_platforms  \n449          True          False  \n11209        True          False  \n1464         True          False  \n9354         True           True  \n9381         True          False  \n876          True           True  \n12975        True           True  \n129          True          False  \n13091        True           True  \n8957         True          False  \n12131        True          False  \n5902         True          False  \n9280         True          False  \n3272         True          False  \n5660         True          False  \n1790         True          False  \n9367         True          False  \n11680        True          False  \n5530         True          False  \n5898         True          False  ",
      "text/html": "<div>\n<style scoped>\n    .dataframe tbody tr th:only-of-type {\n        vertical-align: middle;\n    }\n\n    .dataframe tbody tr th {\n        vertical-align: top;\n    }\n\n    .dataframe thead th {\n        text-align: right;\n    }\n</style>\n<table border=\"1\" class=\"dataframe\">\n  <thead>\n    <tr style=\"text-align: right;\">\n      <th></th>\n      <th>app_id</th>\n      <th>title</th>\n      <th>date_release</th>\n      <th>win</th>\n      <th>mac</th>\n      <th>linux</th>\n      <th>rating</th>\n      <th>positive_ratio</th>\n      <th>user_reviews</th>\n      <th>price_final</th>\n      <th>price_original</th>\n      <th>price_discounted</th>\n      <th>discount</th>\n      <th>steam_deck</th>\n      <th>all_platforms</th>\n    </tr>\n  </thead>\n  <tbody>\n    <tr>\n      <th>449</th>\n      <td>992740</td>\n      <td>祈風 Inorikaze</td>\n      <td>2019-02-13</td>\n      <td>True</td>\n      <td>False</td>\n      <td>False</td>\n      <td>Very Positive</td>\n      <td>100</td>\n      <td>305</td>\n      <td>10.99</td>\n      <td>10.99</td>\n      <td>10.99</td>\n      <td>0</td>\n      <td>True</td>\n      <td>False</td>\n    </tr>\n    <tr>\n      <th>11209</th>\n      <td>1176050</td>\n      <td>秘封旅行 ~ Secret Sealing Travel</td>\n      <td>2020-10-17</td>\n      <td>True</td>\n      <td>False</td>\n      <td>False</td>\n      <td>Very Positive</td>\n      <td>100</td>\n      <td>183</td>\n      <td>4.49</td>\n      <td>5.99</td>\n      <td>4.49</td>\n      <td>25</td>\n      <td>True</td>\n      <td>False</td>\n    </tr>\n    <tr>\n      <th>1464</th>\n      <td>1290220</td>\n      <td>Elasto Mania Remastered</td>\n      <td>2020-05-25</td>\n      <td>True</td>\n      <td>False</td>\n      <td>False</td>\n      <td>Very Positive</td>\n      <td>100</td>\n      <td>171</td>\n      <td>9.99</td>\n      <td>9.99</td>\n      <td>9.99</td>\n      <td>0</td>\n      <td>True</td>\n      <td>False</td>\n    </tr>\n    <tr>\n      <th>9354</th>\n      <td>1082920</td>\n      <td>missed messages - Fan Pack</td>\n      <td>2019-05-28</td>\n      <td>True</td>\n      <td>True</td>\n      <td>True</td>\n      <td>Very Positive</td>\n      <td>100</td>\n      <td>124</td>\n      <td>4.99</td>\n      <td>4.99</td>\n      <td>4.99</td>\n      <td>0</td>\n      <td>True</td>\n      <td>True</td>\n    </tr>\n    <tr>\n      <th>9381</th>\n      <td>2205290</td>\n      <td>流光易逝的夏末 - Fleeting Summer's End</td>\n      <td>2023-01-06</td>\n      <td>True</td>\n      <td>False</td>\n      <td>False</td>\n      <td>Very Positive</td>\n      <td>100</td>\n      <td>121</td>\n      <td>2.99</td>\n      <td>2.99</td>\n      <td>2.99</td>\n      <td>0</td>\n      <td>True</td>\n      <td>False</td>\n    </tr>\n    <tr>\n      <th>876</th>\n      <td>862710</td>\n      <td>Kid,napper - Extra Content</td>\n      <td>2018-05-31</td>\n      <td>True</td>\n      <td>True</td>\n      <td>True</td>\n      <td>Very Positive</td>\n      <td>100</td>\n      <td>117</td>\n      <td>0.99</td>\n      <td>0.99</td>\n      <td>0.99</td>\n      <td>0</td>\n      <td>True</td>\n      <td>True</td>\n    </tr>\n    <tr>\n      <th>12975</th>\n      <td>1796170</td>\n      <td>Bunny e-Shop  The Art of the Game</td>\n      <td>2021-12-16</td>\n      <td>True</td>\n      <td>True</td>\n      <td>True</td>\n      <td>Very Positive</td>\n      <td>100</td>\n      <td>106</td>\n      <td>2.33</td>\n      <td>2.99</td>\n      <td>2.33</td>\n      <td>22</td>\n      <td>True</td>\n      <td>True</td>\n    </tr>\n    <tr>\n      <th>129</th>\n      <td>1727830</td>\n      <td>OPUS: Echo of Starsong Original Soundtrack -Be...</td>\n      <td>2021-08-31</td>\n      <td>False</td>\n      <td>False</td>\n      <td>False</td>\n      <td>Very Positive</td>\n      <td>100</td>\n      <td>100</td>\n      <td>7.99</td>\n      <td>7.99</td>\n      <td>7.99</td>\n      <td>0</td>\n      <td>True</td>\n      <td>False</td>\n    </tr>\n    <tr>\n      <th>13091</th>\n      <td>1028530</td>\n      <td>Paper Memories - Comics from Finding Paradise ...</td>\n      <td>2019-03-08</td>\n      <td>True</td>\n      <td>True</td>\n      <td>True</td>\n      <td>Very Positive</td>\n      <td>100</td>\n      <td>90</td>\n      <td>1.99</td>\n      <td>1.99</td>\n      <td>1.99</td>\n      <td>0</td>\n      <td>True</td>\n      <td>True</td>\n    </tr>\n    <tr>\n      <th>8957</th>\n      <td>1229060</td>\n      <td>Dungeon and Puzzles</td>\n      <td>2021-01-14</td>\n      <td>True</td>\n      <td>True</td>\n      <td>False</td>\n      <td>Very Positive</td>\n      <td>100</td>\n      <td>89</td>\n      <td>7.99</td>\n      <td>7.99</td>\n      <td>7.99</td>\n      <td>0</td>\n      <td>True</td>\n      <td>False</td>\n    </tr>\n    <tr>\n      <th>12131</th>\n      <td>1029650</td>\n      <td>יום פתוח (Open Day)</td>\n      <td>2022-06-22</td>\n      <td>True</td>\n      <td>False</td>\n      <td>False</td>\n      <td>Very Positive</td>\n      <td>100</td>\n      <td>89</td>\n      <td>14.99</td>\n      <td>14.99</td>\n      <td>14.99</td>\n      <td>0</td>\n      <td>True</td>\n      <td>False</td>\n    </tr>\n    <tr>\n      <th>5902</th>\n      <td>1925870</td>\n      <td>THE ART OF FAR AWAY</td>\n      <td>2022-03-17</td>\n      <td>True</td>\n      <td>False</td>\n      <td>False</td>\n      <td>Very Positive</td>\n      <td>100</td>\n      <td>87</td>\n      <td>7.99</td>\n      <td>7.99</td>\n      <td>7.99</td>\n      <td>0</td>\n      <td>True</td>\n      <td>False</td>\n    </tr>\n    <tr>\n      <th>9280</th>\n      <td>1204930</td>\n      <td>Hop Step Sing! Astral Piece</td>\n      <td>2019-12-12</td>\n      <td>True</td>\n      <td>False</td>\n      <td>False</td>\n      <td>Very Positive</td>\n      <td>100</td>\n      <td>80</td>\n      <td>9.99</td>\n      <td>9.99</td>\n      <td>9.99</td>\n      <td>0</td>\n      <td>True</td>\n      <td>False</td>\n    </tr>\n    <tr>\n      <th>3272</th>\n      <td>1857650</td>\n      <td>DEEP FOG</td>\n      <td>2022-04-29</td>\n      <td>True</td>\n      <td>False</td>\n      <td>False</td>\n      <td>Very Positive</td>\n      <td>100</td>\n      <td>80</td>\n      <td>14.99</td>\n      <td>14.99</td>\n      <td>14.99</td>\n      <td>0</td>\n      <td>True</td>\n      <td>False</td>\n    </tr>\n    <tr>\n      <th>5660</th>\n      <td>762930</td>\n      <td>Supipara - Chapter 2 Spring Has Come!</td>\n      <td>2018-04-12</td>\n      <td>True</td>\n      <td>False</td>\n      <td>False</td>\n      <td>Very Positive</td>\n      <td>100</td>\n      <td>79</td>\n      <td>14.99</td>\n      <td>14.99</td>\n      <td>14.99</td>\n      <td>0</td>\n      <td>True</td>\n      <td>False</td>\n    </tr>\n    <tr>\n      <th>1790</th>\n      <td>1424630</td>\n      <td>CosmoDreamer</td>\n      <td>2020-10-02</td>\n      <td>True</td>\n      <td>False</td>\n      <td>False</td>\n      <td>Very Positive</td>\n      <td>100</td>\n      <td>78</td>\n      <td>7.99</td>\n      <td>7.99</td>\n      <td>7.99</td>\n      <td>0</td>\n      <td>True</td>\n      <td>False</td>\n    </tr>\n    <tr>\n      <th>9367</th>\n      <td>1593020</td>\n      <td>Milk inside a bag of milk inside a bag of milk...</td>\n      <td>2021-04-16</td>\n      <td>False</td>\n      <td>False</td>\n      <td>False</td>\n      <td>Very Positive</td>\n      <td>100</td>\n      <td>77</td>\n      <td>0.99</td>\n      <td>0.99</td>\n      <td>0.99</td>\n      <td>0</td>\n      <td>True</td>\n      <td>False</td>\n    </tr>\n    <tr>\n      <th>11680</th>\n      <td>1395730</td>\n      <td>There Is No Game: Wrong Dimension Soundtrack</td>\n      <td>2020-08-20</td>\n      <td>False</td>\n      <td>False</td>\n      <td>False</td>\n      <td>Very Positive</td>\n      <td>100</td>\n      <td>76</td>\n      <td>4.99</td>\n      <td>4.99</td>\n      <td>4.99</td>\n      <td>0</td>\n      <td>True</td>\n      <td>False</td>\n    </tr>\n    <tr>\n      <th>5530</th>\n      <td>1242754</td>\n      <td>Monster Hunter World: Iceborne - Pendant: Stro...</td>\n      <td>2020-04-08</td>\n      <td>True</td>\n      <td>False</td>\n      <td>False</td>\n      <td>Very Positive</td>\n      <td>100</td>\n      <td>75</td>\n      <td>0.59</td>\n      <td>0.99</td>\n      <td>0.59</td>\n      <td>40</td>\n      <td>True</td>\n      <td>False</td>\n    </tr>\n    <tr>\n      <th>5898</th>\n      <td>1805200</td>\n      <td>Shirone: the Dragon Girl</td>\n      <td>2022-03-09</td>\n      <td>True</td>\n      <td>False</td>\n      <td>False</td>\n      <td>Very Positive</td>\n      <td>100</td>\n      <td>74</td>\n      <td>14.99</td>\n      <td>14.99</td>\n      <td>14.99</td>\n      <td>0</td>\n      <td>True</td>\n      <td>False</td>\n    </tr>\n  </tbody>\n</table>\n</div>"
     },
     "metadata": {},
     "output_type": "display_data"
    }
   ],
   "source": [
    "df = df.sort_values(by = ['positive_ratio', 'user_reviews', 'price_final'],ascending=[False, False, True])\n",
    "\n",
    "display(df.head(20))"
   ],
   "metadata": {
    "collapsed": false
   }
  },
  {
   "cell_type": "markdown",
   "source": [
    "### 8"
   ],
   "metadata": {
    "collapsed": false
   }
  },
  {
   "cell_type": "code",
   "execution_count": 22,
   "outputs": [],
   "source": [],
   "metadata": {
    "collapsed": false
   }
  },
  {
   "cell_type": "markdown",
   "source": [
    "### 9"
   ],
   "metadata": {
    "collapsed": false
   }
  },
  {
   "cell_type": "code",
   "execution_count": 22,
   "outputs": [],
   "source": [],
   "metadata": {
    "collapsed": false
   }
  },
  {
   "cell_type": "markdown",
   "source": [
    "### 10"
   ],
   "metadata": {
    "collapsed": false
   }
  },
  {
   "cell_type": "code",
   "execution_count": 40,
   "outputs": [
    {
     "name": "stdout",
     "output_type": "stream",
     "text": [
      "В среднем, чем выше цена игры, тем меньше на неё отзывов оставляют\n"
     ]
    },
    {
     "data": {
      "text/plain": "<Figure size 432x288 with 1 Axes>",
      "image/png": "[encoded data removed]"
     },
     "metadata": {
      "needs_background": "light"
     },
     "output_type": "display_data"
    }
   ],
   "source": [
    "df3 = df.sort_values(by='price_final')\n",
    "\n",
    "x = df3['price_final']\n",
    "y = df3['user_reviews']\n",
    "\n",
    "plt.title('Взаимосвязь цены игры и количества отзывов')\n",
    "plt.xlabel('Цена игры в долларах США $')\n",
    "plt.ylabel('Количество сотен тысяч отзывов')\n",
    "plt.plot(x,y)\n",
    "print('В среднем, чем выше цена игры, тем меньше на неё отзывов оставляют')"
   ],
   "metadata": {
    "collapsed": false
   }
  },
  {
   "cell_type": "markdown",
   "source": [
    "### 11"
   ],
   "metadata": {
    "collapsed": false
   }
  },
  {
   "cell_type": "code",
   "execution_count": 22,
   "outputs": [],
   "source": [],
   "metadata": {
    "collapsed": false
   }
  },
  {
   "cell_type": "markdown",
   "source": [
    "### 12"
   ],
   "metadata": {
    "collapsed": false
   }
  },
  {
   "cell_type": "code",
   "execution_count": 23,
   "outputs": [
    {
     "data": {
      "text/plain": "              app_id    win    mac  linux  positive_ratio  user_reviews  \\\ncount   1.346900e+04  13469  13469  13469    13469.000000  1.346900e+04   \nunique           NaN      2      2      2             NaN           NaN   \ntop              NaN   True  False  False             NaN           NaN   \nfreq             NaN  13192   9509  10747             NaN           NaN   \nmean    9.756635e+05    NaN    NaN    NaN       83.520974  2.979550e+03   \nstd     5.608340e+05    NaN    NaN    NaN       12.831449  7.037265e+04   \nmin     4.400000e+02    NaN    NaN    NaN       24.000000  1.000000e+01   \n25%     4.894600e+05    NaN    NaN    NaN       77.000000  2.000000e+01   \n50%     9.104500e+05    NaN    NaN    NaN       86.000000  4.700000e+01   \n75%     1.419290e+06    NaN    NaN    NaN       93.000000  1.460000e+02   \nmax     2.266310e+06    NaN    NaN    NaN      100.000000  6.870243e+06   \n\n         price_final  price_original  price_discounted      discount  \\\ncount   13469.000000    13443.000000      13443.000000  13469.000000   \nunique           NaN             NaN               NaN           NaN   \ntop              NaN             NaN               NaN           NaN   \nfreq             NaN             NaN               NaN           NaN   \nmean        8.486990        9.188369          8.492626      8.293043   \nstd         9.346087        9.713703          9.348321     22.459214   \nmin         0.000000        0.000000          0.000000      0.000000   \n25%         2.490000        2.990000          2.490000      0.000000   \n50%         5.990000        6.990000          5.990000      0.000000   \n75%         9.990000       11.990000          9.990000      0.000000   \nmax       149.990000      199.990000        149.990000     90.000000   \n\n       steam_deck all_platforms  \ncount       13469         13469  \nunique          1             2  \ntop          True         False  \nfreq        13469         11182  \nmean          NaN           NaN  \nstd           NaN           NaN  \nmin           NaN           NaN  \n25%           NaN           NaN  \n50%           NaN           NaN  \n75%           NaN           NaN  \nmax           NaN           NaN  ",
      "text/html": "<div>\n<style scoped>\n    .dataframe tbody tr th:only-of-type {\n        vertical-align: middle;\n    }\n\n    .dataframe tbody tr th {\n        vertical-align: top;\n    }\n\n    .dataframe thead th {\n        text-align: right;\n    }\n</style>\n<table border=\"1\" class=\"dataframe\">\n  <thead>\n    <tr style=\"text-align: right;\">\n      <th></th>\n      <th>app_id</th>\n      <th>win</th>\n      <th>mac</th>\n      <th>linux</th>\n      <th>positive_ratio</th>\n      <th>user_reviews</th>\n      <th>price_final</th>\n      <th>price_original</th>\n      <th>price_discounted</th>\n      <th>discount</th>\n      <th>steam_deck</th>\n      <th>all_platforms</th>\n    </tr>\n  </thead>\n  <tbody>\n    <tr>\n      <th>count</th>\n      <td>1.346900e+04</td>\n      <td>13469</td>\n      <td>13469</td>\n      <td>13469</td>\n      <td>13469.000000</td>\n      <td>1.346900e+04</td>\n      <td>13469.000000</td>\n      <td>13443.000000</td>\n      <td>13443.000000</td>\n      <td>13469.000000</td>\n      <td>13469</td>\n      <td>13469</td>\n    </tr>\n    <tr>\n      <th>unique</th>\n      <td>NaN</td>\n      <td>2</td>\n      <td>2</td>\n      <td>2</td>\n      <td>NaN</td>\n      <td>NaN</td>\n      <td>NaN</td>\n      <td>NaN</td>\n      <td>NaN</td>\n      <td>NaN</td>\n      <td>1</td>\n      <td>2</td>\n    </tr>\n    <tr>\n      <th>top</th>\n      <td>NaN</td>\n      <td>True</td>\n      <td>False</td>\n      <td>False</td>\n      <td>NaN</td>\n      <td>NaN</td>\n      <td>NaN</td>\n      <td>NaN</td>\n      <td>NaN</td>\n      <td>NaN</td>\n      <td>True</td>\n      <td>False</td>\n    </tr>\n    <tr>\n      <th>freq</th>\n      <td>NaN</td>\n      <td>13192</td>\n      <td>9509</td>\n      <td>10747</td>\n      <td>NaN</td>\n      <td>NaN</td>\n      <td>NaN</td>\n      <td>NaN</td>\n      <td>NaN</td>\n      <td>NaN</td>\n      <td>13469</td>\n      <td>11182</td>\n    </tr>\n    <tr>\n      <th>mean</th>\n      <td>9.756635e+05</td>\n      <td>NaN</td>\n      <td>NaN</td>\n      <td>NaN</td>\n      <td>83.520974</td>\n      <td>2.979550e+03</td>\n      <td>8.486990</td>\n      <td>9.188369</td>\n      <td>8.492626</td>\n      <td>8.293043</td>\n      <td>NaN</td>\n      <td>NaN</td>\n    </tr>\n    <tr>\n      <th>std</th>\n      <td>5.608340e+05</td>\n      <td>NaN</td>\n      <td>NaN</td>\n      <td>NaN</td>\n      <td>12.831449</td>\n      <td>7.037265e+04</td>\n      <td>9.346087</td>\n      <td>9.713703</td>\n      <td>9.348321</td>\n      <td>22.459214</td>\n      <td>NaN</td>\n      <td>NaN</td>\n    </tr>\n    <tr>\n      <th>min</th>\n      <td>4.400000e+02</td>\n      <td>NaN</td>\n      <td>NaN</td>\n      <td>NaN</td>\n      <td>24.000000</td>\n      <td>1.000000e+01</td>\n      <td>0.000000</td>\n      <td>0.000000</td>\n      <td>0.000000</td>\n      <td>0.000000</td>\n      <td>NaN</td>\n      <td>NaN</td>\n    </tr>\n    <tr>\n      <th>25%</th>\n      <td>4.894600e+05</td>\n      <td>NaN</td>\n      <td>NaN</td>\n      <td>NaN</td>\n      <td>77.000000</td>\n      <td>2.000000e+01</td>\n      <td>2.490000</td>\n      <td>2.990000</td>\n      <td>2.490000</td>\n      <td>0.000000</td>\n      <td>NaN</td>\n      <td>NaN</td>\n    </tr>\n    <tr>\n      <th>50%</th>\n      <td>9.104500e+05</td>\n      <td>NaN</td>\n      <td>NaN</td>\n      <td>NaN</td>\n      <td>86.000000</td>\n      <td>4.700000e+01</td>\n      <td>5.990000</td>\n      <td>6.990000</td>\n      <td>5.990000</td>\n      <td>0.000000</td>\n      <td>NaN</td>\n      <td>NaN</td>\n    </tr>\n    <tr>\n      <th>75%</th>\n      <td>1.419290e+06</td>\n      <td>NaN</td>\n      <td>NaN</td>\n      <td>NaN</td>\n      <td>93.000000</td>\n      <td>1.460000e+02</td>\n      <td>9.990000</td>\n      <td>11.990000</td>\n      <td>9.990000</td>\n      <td>0.000000</td>\n      <td>NaN</td>\n      <td>NaN</td>\n    </tr>\n    <tr>\n      <th>max</th>\n      <td>2.266310e+06</td>\n      <td>NaN</td>\n      <td>NaN</td>\n      <td>NaN</td>\n      <td>100.000000</td>\n      <td>6.870243e+06</td>\n      <td>149.990000</td>\n      <td>199.990000</td>\n      <td>149.990000</td>\n      <td>90.000000</td>\n      <td>NaN</td>\n      <td>NaN</td>\n    </tr>\n  </tbody>\n</table>\n</div>"
     },
     "metadata": {},
     "output_type": "display_data"
    }
   ],
   "source": [
    "display(df.describe())"
   ],
   "metadata": {
    "collapsed": false
   }
  },
  {
   "cell_type": "markdown",
   "source": [
    "### 13"
   ],
   "metadata": {
    "collapsed": false
   }
  },
  {
   "cell_type": "code",
   "execution_count": 22,
   "outputs": [],
   "source": [],
   "metadata": {
    "collapsed": false
   }
  },
  {
   "cell_type": "markdown",
   "source": [
    "### 14"
   ],
   "metadata": {
    "collapsed": false
   }
  },
  {
   "cell_type": "code",
   "execution_count": 22,
   "outputs": [],
   "source": [],
   "metadata": {
    "collapsed": false
   }
  },
  {
   "cell_type": "markdown",
   "source": [
    "### 15"
   ],
   "metadata": {
    "collapsed": false
   }
  },
  {
   "cell_type": "code",
   "execution_count": 22,
   "outputs": [],
   "source": [],
   "metadata": {
    "collapsed": false
   }
  }
 ],
 "metadata": {
  "kernelspec": {
   "display_name": "Python 3",
   "language": "python",
   "name": "python3"
  },
  "language_info": {
   "codemirror_mode": {
    "name": "ipython",
    "version": 2
   },
   "file_extension": ".py",
   "mimetype": "text/x-python",
   "name": "python",
   "nbconvert_exporter": "python",
   "pygments_lexer": "ipython2",
   "version": "2.7.6"
  }
 },
 "nbformat": 4,
 "nbformat_minor": 0
}
